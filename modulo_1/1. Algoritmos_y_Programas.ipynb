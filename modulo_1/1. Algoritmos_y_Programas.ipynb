{
  "nbformat": 4,
  "nbformat_minor": 0,
  "metadata": {
    "colab": {
      "provenance": [],
      "include_colab_link": true
    },
    "kernelspec": {
      "name": "python3",
      "display_name": "Python 3"
    },
    "language_info": {
      "name": "python"
    }
  },
  "cells": [
    {
      "cell_type": "markdown",
      "metadata": {
        "id": "view-in-github",
        "colab_type": "text"
      },
      "source": [
        "<a href=\"https://colab.research.google.com/github/sayas1599/UTEC_Programaci-n-en-Python/blob/main/modulo_1/1.%20Algoritmos_y_Programas.ipynb\" target=\"_parent\"><img src=\"https://colab.research.google.com/assets/colab-badge.svg\" alt=\"Open In Colab\"/></a>"
      ]
    },
    {
      "cell_type": "markdown",
      "source": [
        "<img src=\"https://www.ctic.uni.edu.pe/wp-content/uploads/2022/04/588px-x-348px-web-1.png\" alt=\"HTML5 Icon\" width=\"900\" height=\"350\" >"
      ],
      "metadata": {
        "id": "XWp-1a3HCQoh"
      }
    },
    {
      "cell_type": "markdown",
      "source": [
        "<h1 align=center><font size = 5> Algoritmos y programas\n",
        "</font></h1>\n",
        "\n",
        "---"
      ],
      "metadata": {
        "id": "6bpRTn-4CTwV"
      }
    },
    {
      "cell_type": "markdown",
      "source": [
        "## Objetivo\n",
        "\n",
        "Al final del laboratorio, los estudiantes deberían ser capaces de comprender y aplicar las operaciones básicas de Python en la solución de problemas, entender cómo se pueden usar estos conceptos en aplicaciones prácticas y cotidianas, y sentirse motivados para explorar más sobre la programación y su potencial para facilitar y optimizar tareas y decisiones.\n"
      ],
      "metadata": {
        "id": "yYAqVvD3RHbf"
      }
    },
    {
      "cell_type": "markdown",
      "source": [
        "#Ejercicio 1:"
      ],
      "metadata": {
        "id": "aRzqyeNfCcPm"
      }
    },
    {
      "cell_type": "markdown",
      "source": [
        "\n",
        "\n",
        "**Sumar Dos Números**\n",
        "\n",
        "Algoritmo:\n",
        "\n",
        "* Obtener dos números.\n",
        "* Sumar los dos números.\n",
        "* Mostrar el resultado."
      ],
      "metadata": {
        "id": "x0CFZxg1_uFy"
      }
    },
    {
      "cell_type": "markdown",
      "source": [
        "\n",
        "**Pseudo-código:**"
      ],
      "metadata": {
        "id": "ktErA-x2ABlB"
      }
    },
    {
      "cell_type": "code",
      "execution_count": null,
      "metadata": {
        "id": "KO4KO9rA_XIT"
      },
      "outputs": [],
      "source": [
        "\"\"\"\n",
        "Inicio\n",
        "    Leer primerNumero\n",
        "    Leer segundoNumero\n",
        "    resultado = primerNumero + segundoNumero\n",
        "    Escribir resultado\n",
        "Fin\n",
        "\"\"\""
      ]
    },
    {
      "cell_type": "code",
      "source": [
        "#Asignar un valor a un objeto\n",
        "a = 20\n",
        "b = 10\n"
      ],
      "metadata": {
        "id": "3GwgEvtEsec7"
      },
      "execution_count": null,
      "outputs": []
    },
    {
      "cell_type": "code",
      "source": [
        "resultado = a + b"
      ],
      "metadata": {
        "id": "K_Sx5P6Is_-c"
      },
      "execution_count": null,
      "outputs": []
    },
    {
      "cell_type": "code",
      "source": [
        "resultado"
      ],
      "metadata": {
        "id": "2dZoJEabtwAm",
        "outputId": "feb3d9fe-a4a3-4467-e0a4-6bbe2d799749",
        "colab": {
          "base_uri": "https://localhost:8080/"
        }
      },
      "execution_count": null,
      "outputs": [
        {
          "output_type": "execute_result",
          "data": {
            "text/plain": [
              "30"
            ]
          },
          "metadata": {},
          "execution_count": 10
        }
      ]
    },
    {
      "cell_type": "markdown",
      "source": [
        "**Código:**"
      ],
      "metadata": {
        "id": "X3ydvX4kAu7h"
      }
    },
    {
      "cell_type": "code",
      "source": [
        "a = input('Ingrese el primer número: ')\n",
        "b = input('Ingrese el segundo número: ')"
      ],
      "metadata": {
        "id": "hAfr1lp4uLNz",
        "outputId": "ed4ee7d2-470a-4304-de32-3ebb61ade0e2",
        "colab": {
          "base_uri": "https://localhost:8080/"
        }
      },
      "execution_count": null,
      "outputs": [
        {
          "name": "stdout",
          "output_type": "stream",
          "text": [
            "Ingrese el primer número: 45\n"
          ]
        }
      ]
    },
    {
      "cell_type": "code",
      "source": [
        "#Este es un comentario\n",
        "#cast casteo\n",
        "a"
      ],
      "metadata": {
        "id": "rycMo4ZhupY9",
        "outputId": "f4fa017c-c6b2-4d14-8afc-054bfc041a19",
        "colab": {
          "base_uri": "https://localhost:8080/",
          "height": 35
        }
      },
      "execution_count": null,
      "outputs": [
        {
          "output_type": "execute_result",
          "data": {
            "text/plain": [
              "'45'"
            ],
            "application/vnd.google.colaboratory.intrinsic+json": {
              "type": "string"
            }
          },
          "metadata": {},
          "execution_count": 29
        }
      ]
    },
    {
      "cell_type": "code",
      "source": [
        "c = int(a)\n",
        "c"
      ],
      "metadata": {
        "id": "FE5OUfaAwdOn",
        "outputId": "f2d76d0e-2dad-424b-b340-496d033196d1",
        "colab": {
          "base_uri": "https://localhost:8080/"
        }
      },
      "execution_count": null,
      "outputs": [
        {
          "output_type": "execute_result",
          "data": {
            "text/plain": [
              "45"
            ]
          },
          "metadata": {},
          "execution_count": 28
        }
      ]
    },
    {
      "cell_type": "code",
      "source": [
        "a = int(input('Ingrese el primer número: '))\n"
      ],
      "metadata": {
        "id": "C9TO12FRxZ8Q",
        "outputId": "100ee83b-4b0d-4fdb-8798-1adfc2792f60",
        "colab": {
          "base_uri": "https://localhost:8080/"
        }
      },
      "execution_count": null,
      "outputs": [
        {
          "name": "stdout",
          "output_type": "stream",
          "text": [
            "Ingrese el primer número: 30\n"
          ]
        }
      ]
    },
    {
      "cell_type": "code",
      "source": [
        "a"
      ],
      "metadata": {
        "id": "rSNnD899xo5R",
        "outputId": "524b6de8-c9f7-436d-d018-740b18faf7df",
        "colab": {
          "base_uri": "https://localhost:8080/"
        }
      },
      "execution_count": null,
      "outputs": [
        {
          "output_type": "execute_result",
          "data": {
            "text/plain": [
              "30"
            ]
          },
          "metadata": {},
          "execution_count": 31
        }
      ]
    },
    {
      "cell_type": "code",
      "source": [
        "# Algoritmo de suma\n",
        "a = int(input('Ingrese el primer número: '))\n",
        "b = int(input('Ingrese el segundo número: '))\n",
        "resultado = a + b\n",
        "print('El resultado es: ', resultado)\n"
      ],
      "metadata": {
        "id": "CXRsWWOaCjcl",
        "outputId": "e4a5cdf7-c130-4494-8f7a-fc5ec3815f62",
        "colab": {
          "base_uri": "https://localhost:8080/"
        }
      },
      "execution_count": null,
      "outputs": [
        {
          "output_type": "stream",
          "name": "stdout",
          "text": [
            "Ingrese el primer número: 10\n",
            "Ingrese el segundo número: 12\n",
            "El resultado es:  22\n"
          ]
        }
      ]
    },
    {
      "cell_type": "markdown",
      "source": [
        "#Ejercicio 2:"
      ],
      "metadata": {
        "id": "vRz5f9r9Cj24"
      }
    },
    {
      "cell_type": "markdown",
      "source": [
        "**Convertir Grados Celsius a Fahrenheit**\n",
        "\n",
        "Algoritmo:\n",
        "\n",
        "* Obtener la temperatura en grados Celsius.\n",
        "* Convertir la temperatura a Fahrenheit usando la fórmula:\n",
        "\n",
        "<img src=\"https://media.geeksforgeeks.org/wp-content/uploads/20220817110636/FtoCformula3.jpg\" alt=\"HTML5 Icon\" width=\"300\" height=\"100\" >\n",
        "\n",
        "* Mostrar la temperatura en Fahrenheit."
      ],
      "metadata": {
        "id": "nye6e5D9Db-C"
      }
    },
    {
      "cell_type": "markdown",
      "source": [
        "**Pseudo-código:**"
      ],
      "metadata": {
        "id": "demRL1imEPst"
      }
    },
    {
      "cell_type": "code",
      "source": [
        "\"\"\"\n",
        "Inicio\n",
        "Recibir la temperatura en grados celsius\n",
        "aplicar la fórmula de conversión\n",
        "imprimir el resultado\n",
        "Fin\n",
        "\"\"\""
      ],
      "metadata": {
        "id": "0P6hICjcEUAx"
      },
      "execution_count": null,
      "outputs": []
    },
    {
      "cell_type": "markdown",
      "source": [
        "**Código:**"
      ],
      "metadata": {
        "id": "bXa53UH-ESOI"
      }
    },
    {
      "cell_type": "code",
      "source": [
        "\n",
        "temperatura_celsius = int(input('Ingrese la temperatura en celsius: '))\n",
        "temperatura_fahrenheit = temperatura_celsius*9/5 + 32\n",
        "print('La temperatura en Fahrenheit es :', temperatura_fahrenheit)\n"
      ],
      "metadata": {
        "id": "q2NlbgyLEUTv",
        "outputId": "10de9024-8c9a-4705-bc19-cbfba17d2a12",
        "colab": {
          "base_uri": "https://localhost:8080/"
        }
      },
      "execution_count": null,
      "outputs": [
        {
          "output_type": "stream",
          "name": "stdout",
          "text": [
            "Ingrese la temperatura en celsius: 30\n",
            "La temperatura en Fahrenheit es : 86.0\n"
          ]
        }
      ]
    },
    {
      "cell_type": "markdown",
      "source": [
        "#Ejercicio 3:"
      ],
      "metadata": {
        "id": "k8rphMT_DBuN"
      }
    },
    {
      "cell_type": "markdown",
      "source": [
        "**Calcular el Área de un Rectángulo**\n",
        "\n",
        "Algoritmo:\n",
        "\n",
        "* Obtener la longitud del rectángulo.\n",
        "* Obtener el ancho del rectángulo.\n",
        "* Calcular el área multiplicando la longitud por el ancho.\n",
        "* Mostrar el área."
      ],
      "metadata": {
        "id": "DJ2Y_9SEExIO"
      }
    },
    {
      "cell_type": "markdown",
      "source": [
        "**Pseudo-código:**"
      ],
      "metadata": {
        "id": "Xe3lT7n0FIWM"
      }
    },
    {
      "cell_type": "code",
      "source": [
        "\"\"\"\n",
        "Inicio\n",
        "Ingresar la longitud del rectángulo\n",
        "Ingresar el ancho del rectángulo\n",
        "Aplicar la fórmula del área\n",
        "Imprimir el resultado\n",
        "\"\"\""
      ],
      "metadata": {
        "id": "UyRf86xIFIWY"
      },
      "execution_count": null,
      "outputs": []
    },
    {
      "cell_type": "markdown",
      "source": [
        "**Código:**"
      ],
      "metadata": {
        "id": "-PppYyO4FIWY"
      }
    },
    {
      "cell_type": "code",
      "source": [
        "longitud = int(input(\"Ingrese la longitud del rectángulo en cm: \"))\n",
        "ancho = int(input(\"Ingrese el ancho del rectángulo en cm: \"))\n",
        "area = longitud * ancho\n",
        "print(\"el área del rectángulo en cm2 es: \", area)"
      ],
      "metadata": {
        "id": "IJvYMur8FIWY",
        "outputId": "6bdc9513-033d-485d-c008-e831eace360b",
        "colab": {
          "base_uri": "https://localhost:8080/"
        }
      },
      "execution_count": 14,
      "outputs": [
        {
          "output_type": "stream",
          "name": "stdout",
          "text": [
            "Ingrese la longitud del rectángulo en cm: 2\n",
            "Ingrese el ancho del rectángulo en cm: 3\n",
            "el área del rectángulo en cm2 es:  6\n"
          ]
        }
      ]
    },
    {
      "cell_type": "markdown",
      "source": [
        "#Ejercicio 4:"
      ],
      "metadata": {
        "id": "bttq0JL2DDBP"
      }
    },
    {
      "cell_type": "markdown",
      "source": [
        "**Multiplicar Dos Números**\n",
        "\n",
        "Algoritmo:\n",
        "\n",
        "* Obtener dos números del usuario.\n",
        "* Multiplicar los dos números.\n",
        "* Mostrar el resultado de la multiplicación.\n"
      ],
      "metadata": {
        "id": "CJE_FRnaGSuL"
      }
    },
    {
      "cell_type": "markdown",
      "source": [
        "**Pseudo-código:**"
      ],
      "metadata": {
        "id": "nenh1ng2GaJJ"
      }
    },
    {
      "cell_type": "code",
      "source": [
        "\"\"\"\n",
        "Inicio\n",
        "Pedir primer número\n",
        "pedir segundo número\n",
        "Aplicar multiplicación\n",
        "Imprmir resultado\n",
        "Fin\n",
        "\"\"\""
      ],
      "metadata": {
        "id": "4NcqRU8HGaJK"
      },
      "execution_count": null,
      "outputs": []
    },
    {
      "cell_type": "markdown",
      "source": [
        "**Código:**"
      ],
      "metadata": {
        "id": "6QdwbyWGGaJK"
      }
    },
    {
      "cell_type": "code",
      "source": [
        "a = int(input(\"Ingrese el primer número: \"))\n",
        "b = int(input(\"Ingrese el segundo número: \"))\n",
        "c = a * b\n",
        "print(\"La multiplicación de ambos números es igual a: \", c)"
      ],
      "metadata": {
        "id": "jqOfKNIsGaJL",
        "outputId": "12955198-f7d8-4855-c7a8-8c43e14f31f8",
        "colab": {
          "base_uri": "https://localhost:8080/"
        }
      },
      "execution_count": 15,
      "outputs": [
        {
          "output_type": "stream",
          "name": "stdout",
          "text": [
            "Ingrese el primer número: 3\n",
            "Ingrese el segundo número: 5\n",
            "La multiplicación de ambos números es igual a:  15\n"
          ]
        }
      ]
    },
    {
      "cell_type": "markdown",
      "source": [
        "#Ejercicio 5:"
      ],
      "metadata": {
        "id": "kYm5_430DEO4"
      }
    },
    {
      "cell_type": "markdown",
      "source": [
        "**Calcular el Perímetro de un Cuadrado**"
      ],
      "metadata": {
        "id": "qyF9Ig_6GhFJ"
      }
    },
    {
      "cell_type": "markdown",
      "source": [
        "Algoritmo:\n",
        "\n",
        "* Obtener la longitud de un lado del cuadrado.\n",
        "* Calcular el perímetro multiplicando la longitud del lado por cuatro.\n",
        "* Mostrar el perímetro."
      ],
      "metadata": {
        "id": "fJ02vCBIG5Ay"
      }
    },
    {
      "cell_type": "markdown",
      "source": [
        "**Pseudo-código:**"
      ],
      "metadata": {
        "id": "vYmE9dKfHFko"
      }
    },
    {
      "cell_type": "code",
      "source": [
        "\"\"\"\n",
        "Inicio\n",
        "Pedir"
      ],
      "metadata": {
        "id": "uDLjzvLUHFkp"
      },
      "execution_count": null,
      "outputs": []
    },
    {
      "cell_type": "markdown",
      "source": [
        "**Código:**"
      ],
      "metadata": {
        "id": "Ojf15UuuHFkp"
      }
    },
    {
      "cell_type": "code",
      "source": [
        "a = int(input(\"Ingrese la longitud del lado del cuadrado en cm: \"))\n",
        "perimetro = a * 4\n",
        "print(\"El perímetro del cuadrado en cm es: \", perimetro)"
      ],
      "metadata": {
        "id": "G_vWP_O8HFkq",
        "outputId": "331fd46c-e322-41eb-a028-8e3685b3fcb1",
        "colab": {
          "base_uri": "https://localhost:8080/"
        }
      },
      "execution_count": 17,
      "outputs": [
        {
          "output_type": "stream",
          "name": "stdout",
          "text": [
            "Ingrese la longitud del lado del cuadrado en cm: 65\n",
            "El perímetro del cuadrado en cm es:  260\n"
          ]
        }
      ]
    },
    {
      "cell_type": "markdown",
      "source": [
        "#Ejercicio 6:"
      ],
      "metadata": {
        "id": "IbseiCbIDFn0"
      }
    },
    {
      "cell_type": "markdown",
      "source": [
        "**Dividir Dos Números**\n",
        "\n",
        "Algoritmo:\n",
        "\n",
        "* Obtener dos números, donde el segundo no debe ser cero.\n",
        "* Dividir el primer número por el segundo.\n",
        "* Mostrar el resultado de la división."
      ],
      "metadata": {
        "id": "2hmcZ5tUHiZ5"
      }
    },
    {
      "cell_type": "markdown",
      "source": [
        "**Pseudo-código:**"
      ],
      "metadata": {
        "id": "sZIfUucIHrL6"
      }
    },
    {
      "cell_type": "code",
      "source": [],
      "metadata": {
        "id": "iTjqtjxiHrL7"
      },
      "execution_count": null,
      "outputs": []
    },
    {
      "cell_type": "markdown",
      "source": [
        "**Código:**"
      ],
      "metadata": {
        "id": "6_NZCiOyHrL7"
      }
    },
    {
      "cell_type": "code",
      "source": [],
      "metadata": {
        "id": "KjzD3HZOHrL7"
      },
      "execution_count": null,
      "outputs": []
    },
    {
      "cell_type": "markdown",
      "source": [
        "#Ejercicio 7:"
      ],
      "metadata": {
        "id": "Hz9aLTBYDGcF"
      }
    },
    {
      "cell_type": "markdown",
      "source": [
        "**Calcular el Área de un Triángulo**\n",
        "\n",
        "Algoritmo:\n",
        "\n",
        "* Obtener la base del triángulo.\n",
        "* Obtener la altura del triángulo.\n",
        "* Calcular el área usando la fórmula:\n",
        "\n",
        "<img src=\"https://definicionesyconceptos.com/wp-content/uploads/2021/06/Area-del-triangulo-%C2%BFcomo-calcular.jpg\" alt=\"HTML5 Icon\" width=\"300\" height=\"200\" >\n",
        "\n",
        "* Mostrar el área.\n"
      ],
      "metadata": {
        "id": "K8fhtBoqI1HW"
      }
    },
    {
      "cell_type": "markdown",
      "source": [
        "**Pseudo-código:**"
      ],
      "metadata": {
        "id": "3eQM2quhKl1L"
      }
    },
    {
      "cell_type": "code",
      "source": [],
      "metadata": {
        "id": "tXB8oUaxKl1M"
      },
      "execution_count": null,
      "outputs": []
    },
    {
      "cell_type": "markdown",
      "source": [
        "**Código:**"
      ],
      "metadata": {
        "id": "nNswfr4RKl1M"
      }
    },
    {
      "cell_type": "code",
      "source": [],
      "metadata": {
        "id": "V24IQeelKl1N"
      },
      "execution_count": null,
      "outputs": []
    },
    {
      "cell_type": "markdown",
      "source": [
        "#Ejercicio 8:"
      ],
      "metadata": {
        "id": "yoHWKi3QDHdW"
      }
    },
    {
      "cell_type": "markdown",
      "source": [
        "**Concatenar Dos Cadenas**\n",
        "\n",
        "Algoritmo:\n",
        "\n",
        "* Obtener dos cadenas de texto del usuario.\n",
        "* Concatenar las dos cadenas.\n",
        "* Mostrar la cadena resultante."
      ],
      "metadata": {
        "id": "PLF2oUmVKa2Y"
      }
    },
    {
      "cell_type": "markdown",
      "source": [
        "**Pseudo-código:**"
      ],
      "metadata": {
        "id": "W5C6p2dEKjwG"
      }
    },
    {
      "cell_type": "code",
      "source": [],
      "metadata": {
        "id": "Nm59ZR7lKjwH"
      },
      "execution_count": null,
      "outputs": []
    },
    {
      "cell_type": "markdown",
      "source": [
        "**Código:**"
      ],
      "metadata": {
        "id": "stYESX50KjwH"
      }
    },
    {
      "cell_type": "code",
      "source": [],
      "metadata": {
        "id": "X4f87galKjwH"
      },
      "execution_count": null,
      "outputs": []
    },
    {
      "cell_type": "markdown",
      "source": [
        "#Ejercicio 9:"
      ],
      "metadata": {
        "id": "JBVIn59GK9K2"
      }
    },
    {
      "cell_type": "markdown",
      "source": [
        "**Calculadora de Propinas**\n",
        "\n",
        "Algoritmo:\n",
        "\n",
        "* Obtener el monto total de la factura del usuario.\n",
        "* Preguntar al usuario el porcentaje de propina que desea dar.\n",
        "* Calcular el monto de la propina basado en el porcentaje.\n",
        "* Calcular el total general sumando la propina al monto original de la factura.\n",
        "* Mostrar el monto de la propina y el total a pagar."
      ],
      "metadata": {
        "id": "AAMXNVHQLEsn"
      }
    },
    {
      "cell_type": "markdown",
      "source": [
        "**Pseudo-código:**"
      ],
      "metadata": {
        "id": "8Je8ZEJwLV9B"
      }
    },
    {
      "cell_type": "code",
      "source": [],
      "metadata": {
        "id": "URyNV2uwLV9C"
      },
      "execution_count": null,
      "outputs": []
    },
    {
      "cell_type": "markdown",
      "source": [
        "**Código:**"
      ],
      "metadata": {
        "id": "N6ykGmAOLV9C"
      }
    },
    {
      "cell_type": "code",
      "source": [],
      "metadata": {
        "id": "hhzMUF6LLV9D"
      },
      "execution_count": null,
      "outputs": []
    },
    {
      "cell_type": "markdown",
      "source": [
        "#Ejercicio 10:"
      ],
      "metadata": {
        "id": "rvapOr1vK-T_"
      }
    },
    {
      "cell_type": "markdown",
      "source": [
        "\n",
        "**Generador de Contraseñas**\n",
        "\n",
        "Algoritmo:\n",
        "\n",
        "* Preguntar al usuario la longitud deseada para la contraseña.\n",
        "* Generar una contraseña aleatoria utilizando una combinación de letras mayúsculas, minúsculas, números y símbolos.\n",
        "* Mostrar la contraseña generada al usuario."
      ],
      "metadata": {
        "id": "vg-6eSCvLTnx"
      }
    },
    {
      "cell_type": "markdown",
      "source": [
        "**Pseudo-código:**"
      ],
      "metadata": {
        "id": "YgBxkKISLYPv"
      }
    },
    {
      "cell_type": "code",
      "source": [],
      "metadata": {
        "id": "QhFNxAX9LYPw"
      },
      "execution_count": null,
      "outputs": []
    },
    {
      "cell_type": "markdown",
      "source": [
        "**Código:**"
      ],
      "metadata": {
        "id": "lgoZ0gUOLYPw"
      }
    },
    {
      "cell_type": "code",
      "source": [],
      "metadata": {
        "id": "-LJk0UNCLYPw"
      },
      "execution_count": null,
      "outputs": []
    },
    {
      "cell_type": "markdown",
      "source": [
        "#Ejercicio 11:"
      ],
      "metadata": {
        "id": "39GxEHMDK_nA"
      }
    },
    {
      "cell_type": "markdown",
      "source": [
        "**Calculadora de Edad de Mascotas en Años Humanos**\n",
        "\n",
        "Algoritmo:\n",
        "\n",
        "* Preguntar al usuario el tipo de mascota (perro o gato).\n",
        "* Obtener la edad de la mascota en años.\n",
        "* Calcular la edad equivalente en años humanos usando un factor * multiplicativo (se asume 7 para perros y 6 para gatos).\n",
        "*  Mostrar la edad de la mascota en años humanos."
      ],
      "metadata": {
        "id": "1owrR9ITLEEv"
      }
    },
    {
      "cell_type": "markdown",
      "source": [
        "**Pseudo-código:**"
      ],
      "metadata": {
        "id": "lTbjQwFCLZ5J"
      }
    },
    {
      "cell_type": "code",
      "source": [],
      "metadata": {
        "id": "-9B3G-VPLZ5U"
      },
      "execution_count": null,
      "outputs": []
    },
    {
      "cell_type": "markdown",
      "source": [
        "**Código:**"
      ],
      "metadata": {
        "id": "xVeRXs58LZ5V"
      }
    },
    {
      "cell_type": "code",
      "source": [],
      "metadata": {
        "id": "1FPU9uG2LZ5V"
      },
      "execution_count": null,
      "outputs": []
    },
    {
      "cell_type": "markdown",
      "source": [
        "#Ejercicio 12:"
      ],
      "metadata": {
        "id": "DAGbYDAAP_1t"
      }
    },
    {
      "cell_type": "markdown",
      "source": [
        "**Calculadora de Interés Compuesto**\n",
        "\n",
        "Algoritmo:\n",
        "\n",
        "* Preguntar al usuario el monto inicial de la inversión.\n",
        "* Preguntar la tasa de interés anual (en porcentaje).\n",
        "* Preguntar el número de años que la inversión será mantenida.\n",
        "* Calcular el monto final usando la fórmula de interés compuesto.\n",
        "* Mostrar el monto final después de los años especificados.\n"
      ],
      "metadata": {
        "id": "zbHGgy8lQED9"
      }
    },
    {
      "cell_type": "markdown",
      "source": [
        "**Pseudo-código:**"
      ],
      "metadata": {
        "id": "S_8pekqFQSwO"
      }
    },
    {
      "cell_type": "code",
      "source": [],
      "metadata": {
        "id": "2rpduVNpQSwO"
      },
      "execution_count": null,
      "outputs": []
    },
    {
      "cell_type": "markdown",
      "source": [
        "**Código:**"
      ],
      "metadata": {
        "id": "ccOFTCawQSwP"
      }
    },
    {
      "cell_type": "code",
      "source": [],
      "metadata": {
        "id": "HlizzaY2QSwP"
      },
      "execution_count": null,
      "outputs": []
    },
    {
      "cell_type": "markdown",
      "source": [
        "# Ejercicio 13:"
      ],
      "metadata": {
        "id": "ZZDR1mBbQURN"
      }
    },
    {
      "cell_type": "markdown",
      "source": [
        "**Calculadora de Calorías**\n",
        "\n",
        "Algoritmo:\n",
        "\n",
        "* Preguntar al usuario su peso en kilogramos.\n",
        "* Preguntar la duración de la actividad física en minutos.\n",
        "* Asignar un valor fijo de calorías quemadas por minuto según un promedio (ej. 8 calorías/minuto).\n",
        "* Calcular el total de calorías quemadas.\n",
        "* Mostrar las calorías totales quemadas.\n"
      ],
      "metadata": {
        "id": "xbvh-5XmQWcC"
      }
    },
    {
      "cell_type": "markdown",
      "source": [
        "**Pseudo-código:**"
      ],
      "metadata": {
        "id": "J4884mQ-Qs3W"
      }
    },
    {
      "cell_type": "code",
      "source": [],
      "metadata": {
        "id": "fVTGcp18Qs3X"
      },
      "execution_count": null,
      "outputs": []
    },
    {
      "cell_type": "markdown",
      "source": [
        "**Código:**"
      ],
      "metadata": {
        "id": "JQMMrXvZQs3X"
      }
    },
    {
      "cell_type": "code",
      "source": [],
      "metadata": {
        "id": "k_fVDjUMQs3X"
      },
      "execution_count": null,
      "outputs": []
    },
    {
      "cell_type": "markdown",
      "source": [
        "---\n",
        "\n",
        "# Gracias por completar este laboratorio!\n",
        "\n",
        "---\n"
      ],
      "metadata": {
        "id": "qfNCVQ28DOIT"
      }
    }
  ]
}