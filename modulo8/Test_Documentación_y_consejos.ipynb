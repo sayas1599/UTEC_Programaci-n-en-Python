{
  "nbformat": 4,
  "nbformat_minor": 0,
  "metadata": {
    "colab": {
      "provenance": [],
      "include_colab_link": true
    },
    "kernelspec": {
      "name": "python3",
      "display_name": "Python 3"
    },
    "language_info": {
      "name": "python"
    }
  },
  "cells": [
    {
      "cell_type": "markdown",
      "metadata": {
        "id": "view-in-github",
        "colab_type": "text"
      },
      "source": [
        "<a href=\"https://colab.research.google.com/github/sayas1599/UTEC_Programaci-n-en-Python/blob/main/modulo8/Test_Documentaci%C3%B3n_y_consejos.ipynb\" target=\"_parent\"><img src=\"https://colab.research.google.com/assets/colab-badge.svg\" alt=\"Open In Colab\"/></a>"
      ]
    },
    {
      "cell_type": "markdown",
      "source": [
        "<img src=\"https://www.ctic.uni.edu.pe/wp-content/uploads/2022/04/588px-x-348px-web-1.png\" alt=\"HTML5 Icon\" width=\"900\" height=\"350\" >"
      ],
      "metadata": {
        "id": "qQUR2-3JD4eL"
      }
    },
    {
      "cell_type": "markdown",
      "source": [
        "<h1 align=center><font size = 5>UNIDAD VIII - Test, documentación y consejos\n",
        "</font></h1>\n",
        "\n",
        "---"
      ],
      "metadata": {
        "id": "OVQ2JpIkXhGH"
      }
    },
    {
      "cell_type": "markdown",
      "source": [
        "## Tabla de Contenidos\n",
        "\n",
        "<div class=\"alert alert-block alert-info\" style=\"margin-top: 20px\">\n",
        "\n",
        "<font size = 3>\n",
        "    \n",
        "1. <a href=\"#item31\">Instalando y utilizando PEP8</a>\n",
        "2. <a href=\"#item31\">Argparse en python</a>  \n",
        "3. <a href=\"#item31\">Testing en Python</a>  \n",
        "\n",
        "</font>\n",
        "</div>\n",
        "\n",
        "---"
      ],
      "metadata": {
        "id": "dR78NGA6Xv_r"
      }
    },
    {
      "cell_type": "markdown",
      "source": [
        "#1. Instalando y utilizando PEP8"
      ],
      "metadata": {
        "id": "WgFT9B7xYLXC"
      }
    },
    {
      "cell_type": "code",
      "execution_count": null,
      "metadata": {
        "id": "JSLCliNOCHMN"
      },
      "outputs": [],
      "source": [
        "!pip install pycodestyle pycodestyle_magic\n",
        "!pip install flake8\n",
        "%load_ext pycodestyle_magic"
      ]
    },
    {
      "cell_type": "code",
      "source": [
        "%%pycodestyle\n",
        "def function(a, b):\n",
        "    return a + b\n"
      ],
      "metadata": {
        "colab": {
          "base_uri": "https://localhost:8080/"
        },
        "id": "BAT-Y6rgCca1",
        "outputId": "f58cffe1-f621-44cb-b542-dc8d409757d7"
      },
      "execution_count": null,
      "outputs": [
        {
          "output_type": "stream",
          "name": "stderr",
          "text": [
            "INFO:pycodestyle:4:1: W391 blank line at end of file\n"
          ]
        }
      ]
    },
    {
      "cell_type": "markdown",
      "source": [
        "**Ejercicio 1**\n",
        "\n",
        "Escribe una función que reciba la nota del curso y que evalue si el alumno aprobó o no, en caso el alumno haya aprobado imprimir un mensaje para emitir un certicado."
      ],
      "metadata": {
        "id": "dYAcfWSwITDh"
      }
    },
    {
      "cell_type": "code",
      "source": [],
      "metadata": {
        "id": "PGarjHKLIUth"
      },
      "execution_count": null,
      "outputs": []
    },
    {
      "cell_type": "code",
      "source": [
        "evaluarAprobacion()"
      ],
      "metadata": {
        "id": "Id7kE_gkLzhV"
      },
      "execution_count": null,
      "outputs": []
    },
    {
      "cell_type": "markdown",
      "source": [
        "#2. Argparse en python"
      ],
      "metadata": {
        "id": "Dmg0YN0eJiJA"
      }
    },
    {
      "cell_type": "markdown",
      "source": [
        "Aplicando Argparse en python"
      ],
      "metadata": {
        "id": "qvzOifVoQPHD"
      }
    },
    {
      "cell_type": "code",
      "source": [
        "import argparse\n",
        "import sys\n",
        "\n",
        "def main():\n",
        "  parser = argparse.ArgumentParser()\n",
        "  parser.add_argument('--name', type = str, default = 'null', help = 'Nombre del alumno')\n",
        "  parser.add_argument('--nota', type = int, default = 0.0, help = 'Ingrese la nota del alumno')\n",
        "  args = parser.parse_args()\n",
        "  sys.stdout.write(str(evaluarAprobacion(args)))\n",
        "\n",
        "def evaluarAprobacion(args):\n",
        "  if args.nota >= 14:\n",
        "    resultado = f'felicidades {args.name}, has aprobado!!'\n",
        "    aprobacion = 1\n",
        "  else:\n",
        "    aprobacion = 0\n",
        "    resultado = f'lo lamento {args.name}, intenta otra vez!!'\n",
        "  return resultado\n",
        "\n",
        "if __name__ == '__main__':\n",
        "  main()\n",
        "\n"
      ],
      "metadata": {
        "id": "Kn3hVDpDEDR2"
      },
      "execution_count": null,
      "outputs": []
    },
    {
      "cell_type": "code",
      "source": [
        "!python class_notes.py -h"
      ],
      "metadata": {
        "id": "25KPtSdQOPwk"
      },
      "execution_count": null,
      "outputs": []
    },
    {
      "cell_type": "code",
      "source": [
        "!python class_notes.py --name='John' --nota=18"
      ],
      "metadata": {
        "colab": {
          "base_uri": "https://localhost:8080/"
        },
        "id": "Pxb8FAVmOoLY",
        "outputId": "b10e10ec-4fdd-4380-ea9e-6fbf28702118"
      },
      "execution_count": null,
      "outputs": [
        {
          "output_type": "stream",
          "name": "stdout",
          "text": [
            "felicidades John, has aprobado!!"
          ]
        }
      ]
    },
    {
      "cell_type": "code",
      "source": [
        "!python operation.py --x=14 --y=18 --operation=mul"
      ],
      "metadata": {
        "id": "F2TLnbfHPV2p"
      },
      "execution_count": null,
      "outputs": []
    },
    {
      "cell_type": "markdown",
      "source": [
        "#3. Tests en python"
      ],
      "metadata": {
        "id": "_YRQ-IpkRb0j"
      }
    },
    {
      "cell_type": "code",
      "source": [
        "import unittest"
      ],
      "metadata": {
        "id": "Nodhl5ccR8tj"
      },
      "execution_count": null,
      "outputs": []
    },
    {
      "cell_type": "code",
      "source": [
        "!python -m unittest operation.py"
      ],
      "metadata": {
        "id": "MlzxAAA5SA1v"
      },
      "execution_count": null,
      "outputs": []
    },
    {
      "cell_type": "code",
      "source": [
        "!python -m unittest class_notes.py"
      ],
      "metadata": {
        "id": "D6jNr4ImSGjD"
      },
      "execution_count": null,
      "outputs": []
    },
    {
      "cell_type": "code",
      "source": [
        "!python -m unittest -v class_notes.py\n"
      ],
      "metadata": {
        "id": "bAPoj4snSiYh"
      },
      "execution_count": null,
      "outputs": []
    }
  ]
}