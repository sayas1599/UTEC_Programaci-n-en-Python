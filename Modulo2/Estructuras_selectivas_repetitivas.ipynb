{
  "nbformat": 4,
  "nbformat_minor": 0,
  "metadata": {
    "colab": {
      "name": "modulo 2.ipynb",
      "provenance": [],
      "include_colab_link": true
    },
    "kernelspec": {
      "name": "python3",
      "display_name": "Python 3"
    },
    "language_info": {
      "name": "python"
    }
  },
  "cells": [
    {
      "cell_type": "markdown",
      "metadata": {
        "id": "view-in-github",
        "colab_type": "text"
      },
      "source": [
        "<a href=\"https://colab.research.google.com/github/sayas1599/UTEC_Programaci-n-en-Python/blob/main/Modulo2/Estructuras_selectivas_repetitivas.ipynb\" target=\"_parent\"><img src=\"https://colab.research.google.com/assets/colab-badge.svg\" alt=\"Open In Colab\"/></a>"
      ]
    },
    {
      "cell_type": "markdown",
      "source": [
        "<img src=\"https://www.ctic.uni.edu.pe/wp-content/uploads/2022/04/588px-x-348px-web-1.png\" alt=\"HTML5 Icon\" width=\"900\" height=\"350\" >\n"
      ],
      "metadata": {
        "id": "qCg1zV0_DK0j"
      }
    },
    {
      "cell_type": "markdown",
      "source": [
        "<h1 align=center><font size = 5>UNIDAD II - ESTRUCTURAS SELECTIVAS Y REPETITIVAS\n",
        "</font></h1>\n",
        "\n",
        "---"
      ],
      "metadata": {
        "id": "XJ-qSpecBnPA"
      }
    },
    {
      "cell_type": "markdown",
      "source": [
        "## Tabla de Contenidos\n",
        "\n",
        "<div class=\"alert alert-block alert-info\" style=\"margin-top: 20px\">\n",
        "\n",
        "<font size = 3>\n",
        "    \n",
        "1. <a href=\"#item31\">Introducción al entorno Python</a>  \n",
        "2. <a href=\"#item31\">Sentencias IF</a>  \n",
        "3. <a href=\"#item31\">Sentencias While</a>  \n",
        "4. <a href=\"#item31\">Sentencias For</a>  \n",
        "\n",
        "</font>\n",
        "</div>\n",
        "\n",
        "---"
      ],
      "metadata": {
        "id": "-METXVBCB-AX"
      }
    },
    {
      "cell_type": "markdown",
      "source": [
        "#1. Introducción al entorno Python"
      ],
      "metadata": {
        "id": "32lFkXesCLmU"
      }
    },
    {
      "cell_type": "markdown",
      "source": [
        "### Verificando la versión de Python"
      ],
      "metadata": {
        "id": "SdnlyoStB_pK"
      }
    },
    {
      "cell_type": "code",
      "source": [
        "!python3"
      ],
      "metadata": {
        "id": "xFe_fHtsApoC"
      },
      "execution_count": null,
      "outputs": []
    },
    {
      "cell_type": "markdown",
      "source": [
        "### Ejecutando en Python"
      ],
      "metadata": {
        "id": "t1iB2a_1A_Nd"
      }
    },
    {
      "cell_type": "code",
      "source": [
        "print(\"Hello Python interpreter!\")"
      ],
      "metadata": {
        "id": "_GUyponPAi_Z"
      },
      "execution_count": null,
      "outputs": []
    },
    {
      "cell_type": "markdown",
      "source": [
        "### Variables en Python"
      ],
      "metadata": {
        "id": "sthjyiw1BYm4"
      }
    },
    {
      "cell_type": "code",
      "source": [
        "message = \"Hello Python world!\"\n",
        "print(message)"
      ],
      "metadata": {
        "id": "mGbrzOEtBa7g"
      },
      "execution_count": null,
      "outputs": []
    },
    {
      "cell_type": "markdown",
      "source": [
        "### Usando variables con strings"
      ],
      "metadata": {
        "id": "67A0ZgROBH2G"
      }
    },
    {
      "cell_type": "code",
      "source": [
        "first_name = \"John\"\n",
        "last_name = \"Caballero\"\n",
        "\n",
        "full_name = f\"{first_name} {last_name}\"\n",
        "print(full_name)\n"
      ],
      "metadata": {
        "id": "imkWRD_NGhM7"
      },
      "execution_count": null,
      "outputs": []
    },
    {
      "cell_type": "code",
      "source": [
        "first_name = str(input('Ingrese el primer nombre: '))\n",
        "last_name = str(input('Ingrese el apellido: '))\n",
        "\n",
        "full_name = f\"{first_name} {last_name}\"\n",
        "print(f\"Bienvenido {full_name}!\")\n"
      ],
      "metadata": {
        "id": "ldadfir2G-ee"
      },
      "execution_count": null,
      "outputs": []
    },
    {
      "cell_type": "code",
      "source": [
        "print(f\"Hola, {full_name.title()}!\")"
      ],
      "metadata": {
        "id": "9DXlUqRdHWpy"
      },
      "execution_count": null,
      "outputs": []
    },
    {
      "cell_type": "code",
      "source": [
        "message = f\"Hola, {full_name.title()}!\"\n",
        "print(message)"
      ],
      "metadata": {
        "id": "ovwhbcW4HnNO"
      },
      "execution_count": null,
      "outputs": []
    },
    {
      "cell_type": "code",
      "source": [
        "print(\"Python\")"
      ],
      "metadata": {
        "id": "d7c9EIszIADO"
      },
      "execution_count": null,
      "outputs": []
    },
    {
      "cell_type": "code",
      "source": [
        "print(\"Python's\")"
      ],
      "metadata": {
        "id": "ypepBjltTCHR"
      },
      "execution_count": null,
      "outputs": []
    },
    {
      "cell_type": "code",
      "source": [
        "print(\"\\tPython\")"
      ],
      "metadata": {
        "id": "hGmARCyTH_8F"
      },
      "execution_count": null,
      "outputs": []
    },
    {
      "cell_type": "code",
      "source": [
        "print(\"Languages:\\nPython\\nC\\nJavaScript\")"
      ],
      "metadata": {
        "id": "7sLWgXNbH_zY"
      },
      "execution_count": null,
      "outputs": []
    },
    {
      "cell_type": "code",
      "source": [
        "print(\"Languages:\\n\\tPython\\n\\tC\\n\\tJavaScript\")"
      ],
      "metadata": {
        "id": "GHwzRJQeIgCo"
      },
      "execution_count": null,
      "outputs": []
    },
    {
      "cell_type": "markdown",
      "source": [
        "### Espacios en python"
      ],
      "metadata": {
        "id": "uV4g9yt5It7q"
      }
    },
    {
      "cell_type": "code",
      "source": [
        "favorite_language = 'python '\n",
        "favorite_language"
      ],
      "metadata": {
        "id": "3WM1AbohIpnt"
      },
      "execution_count": null,
      "outputs": []
    },
    {
      "cell_type": "code",
      "source": [
        "favorite_language.rstrip()"
      ],
      "metadata": {
        "id": "L465tOhkIqNd"
      },
      "execution_count": null,
      "outputs": []
    },
    {
      "cell_type": "code",
      "source": [
        "favorite_language"
      ],
      "metadata": {
        "id": "7AFWklYBJzQ6"
      },
      "execution_count": null,
      "outputs": []
    },
    {
      "cell_type": "code",
      "source": [
        "favorite_language = 'python '\n",
        "favorite_language = favorite_language.rstrip()\n",
        "favorite_language"
      ],
      "metadata": {
        "id": "9fqYGKCRJk1R"
      },
      "execution_count": null,
      "outputs": []
    },
    {
      "cell_type": "code",
      "source": [
        "favorite_language = ' python '\n",
        "favorite_language"
      ],
      "metadata": {
        "id": "3uDiKbdIKI0M"
      },
      "execution_count": null,
      "outputs": []
    },
    {
      "cell_type": "code",
      "source": [
        "favorite_language.rstrip()"
      ],
      "metadata": {
        "id": "FbVFEWqQKSwS"
      },
      "execution_count": null,
      "outputs": []
    },
    {
      "cell_type": "code",
      "source": [
        "favorite_language.lstrip()"
      ],
      "metadata": {
        "id": "tE4HafwRKJx6"
      },
      "execution_count": null,
      "outputs": []
    },
    {
      "cell_type": "code",
      "source": [
        "favorite_language.strip()"
      ],
      "metadata": {
        "id": "ZgZ9X5kgKJUS"
      },
      "execution_count": null,
      "outputs": []
    },
    {
      "cell_type": "markdown",
      "source": [
        "### Problemas comunes"
      ],
      "metadata": {
        "id": "RSYDstcmLdkD"
      }
    },
    {
      "cell_type": "code",
      "source": [
        "message = \"El libro 'Harry Potter' fue un best seller\"\n",
        "print(message)"
      ],
      "metadata": {
        "id": "Tm8cU1yqLc5M"
      },
      "execution_count": null,
      "outputs": []
    },
    {
      "cell_type": "code",
      "source": [
        "message = 'One of Python's strengths is its diverse community.'\n",
        "print(message)"
      ],
      "metadata": {
        "id": "nxUO09lkNFuk"
      },
      "execution_count": null,
      "outputs": []
    },
    {
      "cell_type": "markdown",
      "source": [
        "### Números"
      ],
      "metadata": {
        "id": "cf-y9DtENQLY"
      }
    },
    {
      "cell_type": "code",
      "source": [
        "2 + 3"
      ],
      "metadata": {
        "id": "NU8oYEG9NPWl"
      },
      "execution_count": null,
      "outputs": []
    },
    {
      "cell_type": "code",
      "source": [
        "3 ** 2"
      ],
      "metadata": {
        "id": "UR4mC6E-Nbhw"
      },
      "execution_count": null,
      "outputs": []
    },
    {
      "cell_type": "code",
      "source": [
        "(2 + 3) * 4"
      ],
      "metadata": {
        "id": "K_Gln-FfNeO9"
      },
      "execution_count": null,
      "outputs": []
    },
    {
      "cell_type": "markdown",
      "source": [
        "### Floats"
      ],
      "metadata": {
        "id": "ubo6p0b-NhjD"
      }
    },
    {
      "cell_type": "code",
      "source": [
        "0.1 + 0.1"
      ],
      "metadata": {
        "id": "RQxlR6oyNmoG"
      },
      "execution_count": null,
      "outputs": []
    },
    {
      "cell_type": "code",
      "source": [
        "2 * 0.2"
      ],
      "metadata": {
        "id": "uWQ-911qNskj"
      },
      "execution_count": null,
      "outputs": []
    },
    {
      "cell_type": "code",
      "source": [
        "0.2 + 0.1"
      ],
      "metadata": {
        "id": "BcImgVOtNySt"
      },
      "execution_count": null,
      "outputs": []
    },
    {
      "cell_type": "markdown",
      "source": [
        "### Enteros y Floats"
      ],
      "metadata": {
        "id": "a_1vW_FNOIf5"
      }
    },
    {
      "cell_type": "code",
      "source": [
        "4/2"
      ],
      "metadata": {
        "id": "iN7X2ZWWOLFS"
      },
      "execution_count": null,
      "outputs": []
    },
    {
      "cell_type": "code",
      "source": [
        "1 + 2.0"
      ],
      "metadata": {
        "id": "D9dA2ELhORGk"
      },
      "execution_count": null,
      "outputs": []
    },
    {
      "cell_type": "code",
      "source": [
        "1*3.0"
      ],
      "metadata": {
        "id": "wwDLo_S_Vhpr"
      },
      "execution_count": null,
      "outputs": []
    },
    {
      "cell_type": "markdown",
      "source": [
        "### Guiones bajos en números"
      ],
      "metadata": {
        "id": "8ICC-mT0OsHE"
      }
    },
    {
      "cell_type": "code",
      "source": [
        "universe_age = 14_000_000_000\n",
        "print(universe_age)"
      ],
      "metadata": {
        "id": "9a4-mKc8OqI8"
      },
      "execution_count": null,
      "outputs": []
    },
    {
      "cell_type": "markdown",
      "source": [
        "### Asignación Múltiple"
      ],
      "metadata": {
        "id": "53q3i_pyPEey"
      }
    },
    {
      "cell_type": "code",
      "source": [
        "a, b = 1, 2\n",
        "b"
      ],
      "metadata": {
        "id": "Tp7oXgPsWQzf"
      },
      "execution_count": null,
      "outputs": []
    },
    {
      "cell_type": "code",
      "source": [
        "x, y, z = 0, 0, 0"
      ],
      "metadata": {
        "id": "jZIDGHQePh6B"
      },
      "execution_count": null,
      "outputs": []
    },
    {
      "cell_type": "code",
      "source": [
        "y"
      ],
      "metadata": {
        "id": "lQR7E1gtPiyR"
      },
      "execution_count": null,
      "outputs": []
    },
    {
      "cell_type": "markdown",
      "source": [
        "### Constantes"
      ],
      "metadata": {
        "id": "pncAPB7TPruo"
      }
    },
    {
      "cell_type": "code",
      "source": [
        "MAX_CONNECTIONS = 5000"
      ],
      "metadata": {
        "id": "AUR_RlTEPvZZ"
      },
      "execution_count": null,
      "outputs": []
    },
    {
      "cell_type": "markdown",
      "source": [
        "<b> Ejercicio </b>\n",
        "\n",
        "Usa una variable para representar un número. Luego, usando esa variable, cree un mensaje que revele su número. Imprime ese mensaje."
      ],
      "metadata": {
        "id": "CpJsuNbVRKZ3"
      }
    },
    {
      "cell_type": "markdown",
      "source": [
        "Doble-click __aquí__ para ver la solución.\n",
        "<!-- La respuesta es:\n",
        "num = 12\n",
        "print(f\"El número es {num}\")\n",
        "-->\n",
        "\n"
      ],
      "metadata": {
        "id": "jMC81ZCBTmJc"
      }
    },
    {
      "cell_type": "markdown",
      "source": [
        "### Comentarios"
      ],
      "metadata": {
        "id": "VAUMMfzqQ_OK"
      }
    },
    {
      "cell_type": "code",
      "source": [
        "# Código para saludar.\n",
        "print(\"Hola programadores de Python!\")"
      ],
      "metadata": {
        "id": "MHCgX32dOnPy"
      },
      "execution_count": null,
      "outputs": []
    },
    {
      "cell_type": "markdown",
      "source": [
        "### El Zen de Python"
      ],
      "metadata": {
        "id": "XTsX-ps8mIBd"
      }
    },
    {
      "cell_type": "code",
      "source": [
        "import this"
      ],
      "metadata": {
        "id": "dB9VCvLST7Gp"
      },
      "execution_count": null,
      "outputs": []
    },
    {
      "cell_type": "markdown",
      "source": [
        "### Introducción a listas"
      ],
      "metadata": {
        "id": "nsNQXu4ScwxS"
      }
    },
    {
      "cell_type": "code",
      "source": [
        "import numpy as np\n",
        "np.array([1, 2, 3])\n"
      ],
      "metadata": {
        "colab": {
          "base_uri": "https://localhost:8080/"
        },
        "id": "whe9siIugU2k",
        "outputId": "e47590d3-9919-4e30-f6d0-dbd5f2ab3d00"
      },
      "execution_count": null,
      "outputs": [
        {
          "output_type": "execute_result",
          "data": {
            "text/plain": [
              "array([1, 2, 3])"
            ]
          },
          "metadata": {},
          "execution_count": 8
        }
      ]
    },
    {
      "cell_type": "code",
      "source": [
        "#          index.    0         1        2.       3\n",
        "#          index    -4        -3       -2       -1\n",
        "lista_compras = ['harina', 'huevos', 'palta', 'galletas', 'manzanas', 'arroz']\n"
      ],
      "metadata": {
        "id": "Yso154ESecza"
      },
      "execution_count": null,
      "outputs": []
    },
    {
      "cell_type": "code",
      "source": [
        "lista_compras[1]"
      ],
      "metadata": {
        "colab": {
          "base_uri": "https://localhost:8080/",
          "height": 35
        },
        "id": "vLdJW3U2elJn",
        "outputId": "9d898d5d-3903-4f05-830a-85449ff5c789"
      },
      "execution_count": null,
      "outputs": [
        {
          "output_type": "execute_result",
          "data": {
            "text/plain": [
              "'huevos'"
            ],
            "application/vnd.google.colaboratory.intrinsic+json": {
              "type": "string"
            }
          },
          "metadata": {},
          "execution_count": 3
        }
      ]
    },
    {
      "cell_type": "code",
      "source": [
        "lista_compras[0]"
      ],
      "metadata": {
        "colab": {
          "base_uri": "https://localhost:8080/",
          "height": 35
        },
        "id": "hwzodlR-hPOm",
        "outputId": "fb074337-dd8a-48c6-85bf-699c81771010"
      },
      "execution_count": null,
      "outputs": [
        {
          "output_type": "execute_result",
          "data": {
            "text/plain": [
              "'harina'"
            ],
            "application/vnd.google.colaboratory.intrinsic+json": {
              "type": "string"
            }
          },
          "metadata": {},
          "execution_count": 11
        }
      ]
    },
    {
      "cell_type": "code",
      "source": [
        "lista_compras[0:3]"
      ],
      "metadata": {
        "colab": {
          "base_uri": "https://localhost:8080/"
        },
        "id": "fl8oyP5GfhE-",
        "outputId": "e2a18c9c-03b1-49a7-c8d9-034485671082"
      },
      "execution_count": null,
      "outputs": [
        {
          "output_type": "execute_result",
          "data": {
            "text/plain": [
              "['harina', 'huevos', 'palta']"
            ]
          },
          "metadata": {},
          "execution_count": 12
        }
      ]
    },
    {
      "cell_type": "code",
      "source": [
        "lista_compras[1:3]"
      ],
      "metadata": {
        "colab": {
          "base_uri": "https://localhost:8080/"
        },
        "id": "SxFC39kghg2I",
        "outputId": "b15fe5c9-f3f1-4b07-fd0e-ad85be02cc21"
      },
      "execution_count": null,
      "outputs": [
        {
          "output_type": "execute_result",
          "data": {
            "text/plain": [
              "['huevos', 'palta']"
            ]
          },
          "metadata": {},
          "execution_count": 13
        }
      ]
    },
    {
      "cell_type": "code",
      "source": [
        "lista_compras[1:]"
      ],
      "metadata": {
        "colab": {
          "base_uri": "https://localhost:8080/"
        },
        "id": "IEjf0_NKhooM",
        "outputId": "738b8d05-9549-4dd7-f263-9ec725629e41"
      },
      "execution_count": null,
      "outputs": [
        {
          "output_type": "execute_result",
          "data": {
            "text/plain": [
              "['huevos', 'palta', 'galletas']"
            ]
          },
          "metadata": {},
          "execution_count": 14
        }
      ]
    },
    {
      "cell_type": "code",
      "source": [
        "[lista_compras[0]].append([lista_compras[2]])"
      ],
      "metadata": {
        "id": "eNX-2B8rjJBw"
      },
      "execution_count": null,
      "outputs": []
    },
    {
      "cell_type": "code",
      "source": [
        "lista_compras"
      ],
      "metadata": {
        "colab": {
          "base_uri": "https://localhost:8080/"
        },
        "id": "8HBadWsikCzi",
        "outputId": "011d031b-dd9a-4efc-c426-f148689f1fd0"
      },
      "execution_count": null,
      "outputs": [
        {
          "output_type": "execute_result",
          "data": {
            "text/plain": [
              "['harina', 'huevos', 'palta', 'galletas', 'manzanas', 'arroz']"
            ]
          },
          "metadata": {},
          "execution_count": 29
        }
      ]
    },
    {
      "cell_type": "code",
      "source": [
        "# prompt: extrae los elementos de index 1 y 3 de una lista dentro de una lista, usa slicing\n",
        "lista_compras[0:5:2]"
      ],
      "metadata": {
        "colab": {
          "base_uri": "https://localhost:8080/"
        },
        "id": "iWWXiTj5jzEW",
        "outputId": "9d20e5d8-59e0-4432-be13-ffb72a0b94ce"
      },
      "execution_count": null,
      "outputs": [
        {
          "output_type": "execute_result",
          "data": {
            "text/plain": [
              "['harina', 'palta', 'manzanas']"
            ]
          },
          "metadata": {},
          "execution_count": 30
        }
      ]
    },
    {
      "cell_type": "code",
      "source": [
        "[lista_compras[0], lista_compras[2]]\n"
      ],
      "metadata": {
        "colab": {
          "base_uri": "https://localhost:8080/"
        },
        "id": "KiHFum2qleRh",
        "outputId": "e132dd7c-0cb0-4ec0-8fc5-0b584f3d6265"
      },
      "execution_count": null,
      "outputs": [
        {
          "output_type": "execute_result",
          "data": {
            "text/plain": [
              "['harina', 'palta']"
            ]
          },
          "metadata": {},
          "execution_count": 34
        }
      ]
    },
    {
      "cell_type": "code",
      "source": [
        "my_list = [[1, 2, 3], [4, 5, 6]]"
      ],
      "metadata": {
        "id": "yEA0YfECl38y"
      },
      "execution_count": null,
      "outputs": []
    },
    {
      "cell_type": "code",
      "source": [
        "my_list[0][1]"
      ],
      "metadata": {
        "colab": {
          "base_uri": "https://localhost:8080/"
        },
        "id": "t7KeaHIEl9Vb",
        "outputId": "d45bea7d-ee4d-4c91-8bd2-4bf3ad09deb2"
      },
      "execution_count": null,
      "outputs": [
        {
          "output_type": "execute_result",
          "data": {
            "text/plain": [
              "2"
            ]
          },
          "metadata": {},
          "execution_count": 38
        }
      ]
    },
    {
      "cell_type": "markdown",
      "source": [],
      "metadata": {
        "id": "xfQ3f6GXeQo7"
      }
    },
    {
      "cell_type": "code",
      "source": [
        "a = ['John', 'Ricardo', 'Marcelo', 'Heidy', 'Nataly']\n",
        "a"
      ],
      "metadata": {
        "id": "ac3vjbHibA42",
        "colab": {
          "base_uri": "https://localhost:8080/"
        },
        "outputId": "836c0fd0-96fc-4230-8de3-2f539fd5ca11"
      },
      "execution_count": null,
      "outputs": [
        {
          "output_type": "execute_result",
          "data": {
            "text/plain": [
              "['John', 'Ricardo', 'Marcelo', 'Heidy', 'Nataly']"
            ]
          },
          "metadata": {},
          "execution_count": 39
        }
      ]
    },
    {
      "cell_type": "code",
      "source": [
        "a = [1, 10, 4, 5, 99.0]\n",
        "a"
      ],
      "metadata": {
        "id": "v4lFhW1sbg_2",
        "colab": {
          "base_uri": "https://localhost:8080/"
        },
        "outputId": "6eae2e6d-20c0-4ad8-889d-65a644832091"
      },
      "execution_count": null,
      "outputs": [
        {
          "output_type": "execute_result",
          "data": {
            "text/plain": [
              "[1, 10, 4, 5, 99.0]"
            ]
          },
          "metadata": {},
          "execution_count": 40
        }
      ]
    },
    {
      "cell_type": "code",
      "source": [
        "a = [1, 10, 4, 5, 'Nataly']\n",
        "a"
      ],
      "metadata": {
        "id": "pz_NpJO6brs0",
        "colab": {
          "base_uri": "https://localhost:8080/"
        },
        "outputId": "c90da2d8-1a87-4eee-c26d-daa53e7fd9c7"
      },
      "execution_count": null,
      "outputs": [
        {
          "output_type": "execute_result",
          "data": {
            "text/plain": [
              "[1, 10, 4, 5, 'Nataly']"
            ]
          },
          "metadata": {},
          "execution_count": 41
        }
      ]
    },
    {
      "cell_type": "code",
      "source": [
        "a[0:2]"
      ],
      "metadata": {
        "id": "JEO4bTGmnk01",
        "outputId": "bd92414c-fdca-41c4-bd1d-157f543ceb76",
        "colab": {
          "base_uri": "https://localhost:8080/"
        }
      },
      "execution_count": null,
      "outputs": [
        {
          "output_type": "execute_result",
          "data": {
            "text/plain": [
              "[1, 10]"
            ]
          },
          "metadata": {},
          "execution_count": 51
        }
      ]
    },
    {
      "cell_type": "code",
      "source": [
        "a = [1, 10, 4, 5, None]\n",
        "a"
      ],
      "metadata": {
        "id": "0ufNgmA_b0M4",
        "colab": {
          "base_uri": "https://localhost:8080/"
        },
        "outputId": "c026af54-6a93-42d3-962a-4c7735999d71"
      },
      "execution_count": null,
      "outputs": [
        {
          "output_type": "execute_result",
          "data": {
            "text/plain": [
              "[1, 10, 4, 5, None]"
            ]
          },
          "metadata": {},
          "execution_count": 42
        }
      ]
    },
    {
      "cell_type": "code",
      "source": [
        "my_null_list = [None, None, None, None]"
      ],
      "metadata": {
        "id": "_bHj1fvKmSIp"
      },
      "execution_count": null,
      "outputs": []
    },
    {
      "cell_type": "code",
      "source": [
        "print(my_null_list[2])"
      ],
      "metadata": {
        "colab": {
          "base_uri": "https://localhost:8080/"
        },
        "id": "FTq18BAsmbl_",
        "outputId": "989e899c-09e9-46a3-b355-727dc81e297e"
      },
      "execution_count": null,
      "outputs": [
        {
          "output_type": "stream",
          "name": "stdout",
          "text": [
            "None\n"
          ]
        }
      ]
    },
    {
      "cell_type": "code",
      "source": [
        "a = [1, 10, 4, 5, [2, 3, 8]]\n",
        "a"
      ],
      "metadata": {
        "id": "h35YXpuwb8ao"
      },
      "execution_count": null,
      "outputs": []
    },
    {
      "cell_type": "code",
      "source": [
        "a[0]"
      ],
      "metadata": {
        "id": "PQTHxd5qcLbF"
      },
      "execution_count": null,
      "outputs": []
    },
    {
      "cell_type": "code",
      "source": [
        "a[3]"
      ],
      "metadata": {
        "id": "ePpVwfRzcadx"
      },
      "execution_count": null,
      "outputs": []
    },
    {
      "cell_type": "code",
      "source": [
        "a[4][1]"
      ],
      "metadata": {
        "id": "NDzQJNJHckjd"
      },
      "execution_count": null,
      "outputs": []
    },
    {
      "cell_type": "code",
      "source": [
        "range(inicio, final + 1)"
      ],
      "metadata": {
        "id": "gRCxCEJIn2XR"
      },
      "execution_count": null,
      "outputs": []
    },
    {
      "cell_type": "code",
      "source": [
        "range(1, 10+1)"
      ],
      "metadata": {
        "id": "3zR6bpiZmxKM",
        "outputId": "6d198a5b-34ff-46fb-bb02-c63c7d4b8cdc",
        "colab": {
          "base_uri": "https://localhost:8080/"
        }
      },
      "execution_count": null,
      "outputs": [
        {
          "output_type": "execute_result",
          "data": {
            "text/plain": [
              "range(1, 11)"
            ]
          },
          "metadata": {},
          "execution_count": 48
        }
      ]
    },
    {
      "cell_type": "code",
      "source": [
        "1, 2, 3, 4, 5, 6, 7, 8, 9, 10"
      ],
      "metadata": {
        "id": "XJ65BBPynQWF"
      },
      "execution_count": null,
      "outputs": []
    },
    {
      "cell_type": "code",
      "source": [],
      "metadata": {
        "id": "vgTfoLt8niXS"
      },
      "execution_count": null,
      "outputs": []
    },
    {
      "cell_type": "code",
      "source": [],
      "metadata": {
        "id": "IVo1AcLAqR-S"
      },
      "execution_count": null,
      "outputs": []
    },
    {
      "cell_type": "markdown",
      "source": [
        "**Ejercicio**\n",
        "\n",
        "Preguntele al usuario su edad, universidad y distrito de vivienda y almacene el resultado en una lista. Finalmente agradezca al usuario y termine el programa.\n"
      ],
      "metadata": {
        "id": "3tCjIX5XoLOn"
      }
    },
    {
      "cell_type": "code",
      "source": [
        "\n",
        "\n",
        "name = input('Hola, Ingresa tu nombre: ')\n",
        "age = int(input('Por favor, ingresa tu edad: '))\n",
        "district = input('Ingresa el distrito donde vives: ')\n",
        "\n",
        "list_info = [name, age, district]\n",
        "\n",
        "print(f'muchas gracias por tu ayuda {name}')\n"
      ],
      "metadata": {
        "id": "yOUi_7AbqOa_",
        "outputId": "6d738f86-ac6c-455f-c4e1-4f3c1e0e5d5c",
        "colab": {
          "base_uri": "https://localhost:8080/"
        }
      },
      "execution_count": null,
      "outputs": [
        {
          "output_type": "stream",
          "name": "stdout",
          "text": [
            "Hola, Ingresa tu nombre: John\n",
            "Por favor, ingresa tu edad: 32\n",
            "Ingresa el distrito donde vives: San Isidro\n",
            "muchas gracias por tu ayuda John\n"
          ]
        }
      ]
    },
    {
      "cell_type": "code",
      "source": [
        "data_base = []"
      ],
      "metadata": {
        "id": "yq0EaGeOsAN7"
      },
      "execution_count": null,
      "outputs": []
    },
    {
      "cell_type": "code",
      "source": [
        "\n",
        "name = input('Hola, Ingresa tu nombre: ')\n",
        "age = int(input('Por favor, ingresa tu edad: '))\n",
        "district = input('Ingresa el distrito donde vives: ')\n",
        "\n",
        "list_info = [name, age, district]\n",
        "\n",
        "data_base.append(list_info)\n",
        "\n",
        "print(f'muchas gracias por tu ayuda {name}')\n"
      ],
      "metadata": {
        "id": "pqymCoQur7yz",
        "outputId": "1619fc89-d30e-4e13-cdd6-13c14bb40bca",
        "colab": {
          "base_uri": "https://localhost:8080/"
        }
      },
      "execution_count": null,
      "outputs": [
        {
          "output_type": "stream",
          "name": "stdout",
          "text": [
            "Hola, Ingresa tu nombre: a\n",
            "Por favor, ingresa tu edad: 12\n",
            "Ingresa el distrito donde vives: b\n",
            "muchas gracias por tu ayuda a\n"
          ]
        }
      ]
    },
    {
      "cell_type": "code",
      "source": [
        "x"
      ],
      "metadata": {
        "id": "NF3g9Ys0tE7U",
        "outputId": "6fa26906-28c1-40a0-bd41-cfc6d2ad47d5",
        "colab": {
          "base_uri": "https://localhost:8080/",
          "height": 141
        }
      },
      "execution_count": null,
      "outputs": [
        {
          "output_type": "error",
          "ename": "NameError",
          "evalue": "name 'x' is not defined",
          "traceback": [
            "\u001b[0;31m---------------------------------------------------------------------------\u001b[0m",
            "\u001b[0;31mNameError\u001b[0m                                 Traceback (most recent call last)",
            "\u001b[0;32m<ipython-input-67-6fcf9dfbd479>\u001b[0m in \u001b[0;36m<cell line: 1>\u001b[0;34m()\u001b[0m\n\u001b[0;32m----> 1\u001b[0;31m \u001b[0mx\u001b[0m\u001b[0;34m\u001b[0m\u001b[0;34m\u001b[0m\u001b[0m\n\u001b[0m",
            "\u001b[0;31mNameError\u001b[0m: name 'x' is not defined"
          ]
        }
      ]
    },
    {
      "cell_type": "code",
      "source": [
        "x = 15\n",
        "y = 9\n",
        "z = -15"
      ],
      "metadata": {
        "id": "dhIrm5T3tJpI"
      },
      "execution_count": null,
      "outputs": []
    },
    {
      "cell_type": "code",
      "source": [
        "\n",
        "lista = [x, y, z]\n",
        "\n",
        "x = 1\n",
        "y = 2\n",
        "z = 12\n"
      ],
      "metadata": {
        "id": "9JfTmF2cs9YL"
      },
      "execution_count": null,
      "outputs": []
    },
    {
      "cell_type": "code",
      "source": [
        "lista"
      ],
      "metadata": {
        "id": "awdcZ7U_tSFA",
        "outputId": "0ed75e17-aac9-4c47-8da9-2608b16930e7",
        "colab": {
          "base_uri": "https://localhost:8080/"
        }
      },
      "execution_count": null,
      "outputs": [
        {
          "output_type": "execute_result",
          "data": {
            "text/plain": [
              "[15, 9, -15]"
            ]
          },
          "metadata": {},
          "execution_count": 71
        }
      ]
    },
    {
      "cell_type": "code",
      "source": [
        "data_base"
      ],
      "metadata": {
        "id": "-pygCH27sKlM",
        "outputId": "0684226f-569b-4ea1-f1c6-136d96c39ed1",
        "colab": {
          "base_uri": "https://localhost:8080/"
        }
      },
      "execution_count": null,
      "outputs": [
        {
          "output_type": "execute_result",
          "data": {
            "text/plain": [
              "[['Luis', 19, 'La Molina'], ['Bryan', 28, 'Surco']]"
            ]
          },
          "metadata": {},
          "execution_count": 65
        }
      ]
    },
    {
      "cell_type": "code",
      "source": [
        "print(f'muchas gracias por tu ayuda {name}')\n"
      ],
      "metadata": {
        "id": "L0tRAOHCrbEX",
        "outputId": "71bf2ed4-ae88-483a-d9cd-db41d931dcd1",
        "colab": {
          "base_uri": "https://localhost:8080/"
        }
      },
      "execution_count": null,
      "outputs": [
        {
          "output_type": "stream",
          "name": "stdout",
          "text": [
            "muchas gracias por tu ayuda a\n"
          ]
        }
      ]
    },
    {
      "cell_type": "code",
      "source": [
        "import pandas as pd\n",
        "pd.DataFrame({'datos' : list_info})"
      ],
      "metadata": {
        "id": "yVKwqFL1q2C3",
        "outputId": "2071a726-71d8-4512-e732-3248063885d7",
        "colab": {
          "base_uri": "https://localhost:8080/",
          "height": 143
        }
      },
      "execution_count": null,
      "outputs": [
        {
          "output_type": "execute_result",
          "data": {
            "text/plain": [
              "        datos\n",
              "0        John\n",
              "1          32\n",
              "2  San Isidro"
            ],
            "text/html": [
              "\n",
              "  <div id=\"df-bc79ba82-72d1-459d-b96a-066d55f55edd\" class=\"colab-df-container\">\n",
              "    <div>\n",
              "<style scoped>\n",
              "    .dataframe tbody tr th:only-of-type {\n",
              "        vertical-align: middle;\n",
              "    }\n",
              "\n",
              "    .dataframe tbody tr th {\n",
              "        vertical-align: top;\n",
              "    }\n",
              "\n",
              "    .dataframe thead th {\n",
              "        text-align: right;\n",
              "    }\n",
              "</style>\n",
              "<table border=\"1\" class=\"dataframe\">\n",
              "  <thead>\n",
              "    <tr style=\"text-align: right;\">\n",
              "      <th></th>\n",
              "      <th>datos</th>\n",
              "    </tr>\n",
              "  </thead>\n",
              "  <tbody>\n",
              "    <tr>\n",
              "      <th>0</th>\n",
              "      <td>John</td>\n",
              "    </tr>\n",
              "    <tr>\n",
              "      <th>1</th>\n",
              "      <td>32</td>\n",
              "    </tr>\n",
              "    <tr>\n",
              "      <th>2</th>\n",
              "      <td>San Isidro</td>\n",
              "    </tr>\n",
              "  </tbody>\n",
              "</table>\n",
              "</div>\n",
              "    <div class=\"colab-df-buttons\">\n",
              "\n",
              "  <div class=\"colab-df-container\">\n",
              "    <button class=\"colab-df-convert\" onclick=\"convertToInteractive('df-bc79ba82-72d1-459d-b96a-066d55f55edd')\"\n",
              "            title=\"Convert this dataframe to an interactive table.\"\n",
              "            style=\"display:none;\">\n",
              "\n",
              "  <svg xmlns=\"http://www.w3.org/2000/svg\" height=\"24px\" viewBox=\"0 -960 960 960\">\n",
              "    <path d=\"M120-120v-720h720v720H120Zm60-500h600v-160H180v160Zm220 220h160v-160H400v160Zm0 220h160v-160H400v160ZM180-400h160v-160H180v160Zm440 0h160v-160H620v160ZM180-180h160v-160H180v160Zm440 0h160v-160H620v160Z\"/>\n",
              "  </svg>\n",
              "    </button>\n",
              "\n",
              "  <style>\n",
              "    .colab-df-container {\n",
              "      display:flex;\n",
              "      gap: 12px;\n",
              "    }\n",
              "\n",
              "    .colab-df-convert {\n",
              "      background-color: #E8F0FE;\n",
              "      border: none;\n",
              "      border-radius: 50%;\n",
              "      cursor: pointer;\n",
              "      display: none;\n",
              "      fill: #1967D2;\n",
              "      height: 32px;\n",
              "      padding: 0 0 0 0;\n",
              "      width: 32px;\n",
              "    }\n",
              "\n",
              "    .colab-df-convert:hover {\n",
              "      background-color: #E2EBFA;\n",
              "      box-shadow: 0px 1px 2px rgba(60, 64, 67, 0.3), 0px 1px 3px 1px rgba(60, 64, 67, 0.15);\n",
              "      fill: #174EA6;\n",
              "    }\n",
              "\n",
              "    .colab-df-buttons div {\n",
              "      margin-bottom: 4px;\n",
              "    }\n",
              "\n",
              "    [theme=dark] .colab-df-convert {\n",
              "      background-color: #3B4455;\n",
              "      fill: #D2E3FC;\n",
              "    }\n",
              "\n",
              "    [theme=dark] .colab-df-convert:hover {\n",
              "      background-color: #434B5C;\n",
              "      box-shadow: 0px 1px 3px 1px rgba(0, 0, 0, 0.15);\n",
              "      filter: drop-shadow(0px 1px 2px rgba(0, 0, 0, 0.3));\n",
              "      fill: #FFFFFF;\n",
              "    }\n",
              "  </style>\n",
              "\n",
              "    <script>\n",
              "      const buttonEl =\n",
              "        document.querySelector('#df-bc79ba82-72d1-459d-b96a-066d55f55edd button.colab-df-convert');\n",
              "      buttonEl.style.display =\n",
              "        google.colab.kernel.accessAllowed ? 'block' : 'none';\n",
              "\n",
              "      async function convertToInteractive(key) {\n",
              "        const element = document.querySelector('#df-bc79ba82-72d1-459d-b96a-066d55f55edd');\n",
              "        const dataTable =\n",
              "          await google.colab.kernel.invokeFunction('convertToInteractive',\n",
              "                                                    [key], {});\n",
              "        if (!dataTable) return;\n",
              "\n",
              "        const docLinkHtml = 'Like what you see? Visit the ' +\n",
              "          '<a target=\"_blank\" href=https://colab.research.google.com/notebooks/data_table.ipynb>data table notebook</a>'\n",
              "          + ' to learn more about interactive tables.';\n",
              "        element.innerHTML = '';\n",
              "        dataTable['output_type'] = 'display_data';\n",
              "        await google.colab.output.renderOutput(dataTable, element);\n",
              "        const docLink = document.createElement('div');\n",
              "        docLink.innerHTML = docLinkHtml;\n",
              "        element.appendChild(docLink);\n",
              "      }\n",
              "    </script>\n",
              "  </div>\n",
              "\n",
              "\n",
              "<div id=\"df-043f60da-e8da-4d6f-a5ca-9b7ccd94509e\">\n",
              "  <button class=\"colab-df-quickchart\" onclick=\"quickchart('df-043f60da-e8da-4d6f-a5ca-9b7ccd94509e')\"\n",
              "            title=\"Suggest charts\"\n",
              "            style=\"display:none;\">\n",
              "\n",
              "<svg xmlns=\"http://www.w3.org/2000/svg\" height=\"24px\"viewBox=\"0 0 24 24\"\n",
              "     width=\"24px\">\n",
              "    <g>\n",
              "        <path d=\"M19 3H5c-1.1 0-2 .9-2 2v14c0 1.1.9 2 2 2h14c1.1 0 2-.9 2-2V5c0-1.1-.9-2-2-2zM9 17H7v-7h2v7zm4 0h-2V7h2v10zm4 0h-2v-4h2v4z\"/>\n",
              "    </g>\n",
              "</svg>\n",
              "  </button>\n",
              "\n",
              "<style>\n",
              "  .colab-df-quickchart {\n",
              "      --bg-color: #E8F0FE;\n",
              "      --fill-color: #1967D2;\n",
              "      --hover-bg-color: #E2EBFA;\n",
              "      --hover-fill-color: #174EA6;\n",
              "      --disabled-fill-color: #AAA;\n",
              "      --disabled-bg-color: #DDD;\n",
              "  }\n",
              "\n",
              "  [theme=dark] .colab-df-quickchart {\n",
              "      --bg-color: #3B4455;\n",
              "      --fill-color: #D2E3FC;\n",
              "      --hover-bg-color: #434B5C;\n",
              "      --hover-fill-color: #FFFFFF;\n",
              "      --disabled-bg-color: #3B4455;\n",
              "      --disabled-fill-color: #666;\n",
              "  }\n",
              "\n",
              "  .colab-df-quickchart {\n",
              "    background-color: var(--bg-color);\n",
              "    border: none;\n",
              "    border-radius: 50%;\n",
              "    cursor: pointer;\n",
              "    display: none;\n",
              "    fill: var(--fill-color);\n",
              "    height: 32px;\n",
              "    padding: 0;\n",
              "    width: 32px;\n",
              "  }\n",
              "\n",
              "  .colab-df-quickchart:hover {\n",
              "    background-color: var(--hover-bg-color);\n",
              "    box-shadow: 0 1px 2px rgba(60, 64, 67, 0.3), 0 1px 3px 1px rgba(60, 64, 67, 0.15);\n",
              "    fill: var(--button-hover-fill-color);\n",
              "  }\n",
              "\n",
              "  .colab-df-quickchart-complete:disabled,\n",
              "  .colab-df-quickchart-complete:disabled:hover {\n",
              "    background-color: var(--disabled-bg-color);\n",
              "    fill: var(--disabled-fill-color);\n",
              "    box-shadow: none;\n",
              "  }\n",
              "\n",
              "  .colab-df-spinner {\n",
              "    border: 2px solid var(--fill-color);\n",
              "    border-color: transparent;\n",
              "    border-bottom-color: var(--fill-color);\n",
              "    animation:\n",
              "      spin 1s steps(1) infinite;\n",
              "  }\n",
              "\n",
              "  @keyframes spin {\n",
              "    0% {\n",
              "      border-color: transparent;\n",
              "      border-bottom-color: var(--fill-color);\n",
              "      border-left-color: var(--fill-color);\n",
              "    }\n",
              "    20% {\n",
              "      border-color: transparent;\n",
              "      border-left-color: var(--fill-color);\n",
              "      border-top-color: var(--fill-color);\n",
              "    }\n",
              "    30% {\n",
              "      border-color: transparent;\n",
              "      border-left-color: var(--fill-color);\n",
              "      border-top-color: var(--fill-color);\n",
              "      border-right-color: var(--fill-color);\n",
              "    }\n",
              "    40% {\n",
              "      border-color: transparent;\n",
              "      border-right-color: var(--fill-color);\n",
              "      border-top-color: var(--fill-color);\n",
              "    }\n",
              "    60% {\n",
              "      border-color: transparent;\n",
              "      border-right-color: var(--fill-color);\n",
              "    }\n",
              "    80% {\n",
              "      border-color: transparent;\n",
              "      border-right-color: var(--fill-color);\n",
              "      border-bottom-color: var(--fill-color);\n",
              "    }\n",
              "    90% {\n",
              "      border-color: transparent;\n",
              "      border-bottom-color: var(--fill-color);\n",
              "    }\n",
              "  }\n",
              "</style>\n",
              "\n",
              "  <script>\n",
              "    async function quickchart(key) {\n",
              "      const quickchartButtonEl =\n",
              "        document.querySelector('#' + key + ' button');\n",
              "      quickchartButtonEl.disabled = true;  // To prevent multiple clicks.\n",
              "      quickchartButtonEl.classList.add('colab-df-spinner');\n",
              "      try {\n",
              "        const charts = await google.colab.kernel.invokeFunction(\n",
              "            'suggestCharts', [key], {});\n",
              "      } catch (error) {\n",
              "        console.error('Error during call to suggestCharts:', error);\n",
              "      }\n",
              "      quickchartButtonEl.classList.remove('colab-df-spinner');\n",
              "      quickchartButtonEl.classList.add('colab-df-quickchart-complete');\n",
              "    }\n",
              "    (() => {\n",
              "      let quickchartButtonEl =\n",
              "        document.querySelector('#df-043f60da-e8da-4d6f-a5ca-9b7ccd94509e button');\n",
              "      quickchartButtonEl.style.display =\n",
              "        google.colab.kernel.accessAllowed ? 'block' : 'none';\n",
              "    })();\n",
              "  </script>\n",
              "</div>\n",
              "\n",
              "    </div>\n",
              "  </div>\n"
            ],
            "application/vnd.google.colaboratory.intrinsic+json": {
              "type": "dataframe",
              "summary": "{\n  \"name\": \"pd\",\n  \"rows\": 3,\n  \"fields\": [\n    {\n      \"column\": \"datos\",\n      \"properties\": {\n        \"dtype\": \"string\",\n        \"num_unique_values\": 3,\n        \"samples\": [\n          \"John\",\n          32,\n          \"San Isidro\"\n        ],\n        \"semantic_type\": \"\",\n        \"description\": \"\"\n      }\n    }\n  ]\n}"
            }
          },
          "metadata": {},
          "execution_count": 55
        }
      ]
    },
    {
      "cell_type": "markdown",
      "source": [
        "# 2. Sentencias IF"
      ],
      "metadata": {
        "id": "AR6JaCmmRB6V"
      }
    },
    {
      "cell_type": "code",
      "source": [
        "cars = ['audi', 'bmw', 'subaru', 'toyota']\n",
        "\n",
        "for car in cars:\n",
        "  if car == 'bmw':\n",
        "    print(car.upper())\n",
        "  else:\n",
        "    print(car.title())"
      ],
      "metadata": {
        "id": "GY71b_kGmTAl"
      },
      "execution_count": null,
      "outputs": []
    },
    {
      "cell_type": "markdown",
      "source": [
        "### Igualdades"
      ],
      "metadata": {
        "id": "NhyOyyLtnaLV"
      }
    },
    {
      "cell_type": "code",
      "source": [
        "1 = 2"
      ],
      "metadata": {
        "id": "YZkf5aLHmhde"
      },
      "execution_count": null,
      "outputs": []
    },
    {
      "cell_type": "code",
      "source": [
        "1 == 2"
      ],
      "metadata": {
        "id": "qi5sJLuUmR0m"
      },
      "execution_count": null,
      "outputs": []
    },
    {
      "cell_type": "code",
      "source": [
        "2 == 2"
      ],
      "metadata": {
        "id": "8T_pNL9gmoT8"
      },
      "execution_count": null,
      "outputs": []
    },
    {
      "cell_type": "code",
      "source": [
        "2 == 2.0"
      ],
      "metadata": {
        "id": "hSQ9bC3Vmy96"
      },
      "execution_count": null,
      "outputs": []
    },
    {
      "cell_type": "code",
      "source": [
        "car = 'bmw'\n",
        "car == 'bmw'"
      ],
      "metadata": {
        "id": "PukwJABJm1rP"
      },
      "execution_count": null,
      "outputs": []
    },
    {
      "cell_type": "code",
      "source": [
        "car = 'audi'\n",
        "car == 'bmw'"
      ],
      "metadata": {
        "id": "cz5ibI_Wm9lq"
      },
      "execution_count": null,
      "outputs": []
    },
    {
      "cell_type": "markdown",
      "source": [
        "Ignorando Mayusculas en igualdades"
      ],
      "metadata": {
        "id": "yEggshtHom4j"
      }
    },
    {
      "cell_type": "code",
      "source": [
        "car = 'Audi'\n",
        "car == 'audi'"
      ],
      "metadata": {
        "id": "2tLQKu9KnLC3"
      },
      "execution_count": null,
      "outputs": []
    },
    {
      "cell_type": "code",
      "source": [
        "car.lower()"
      ],
      "metadata": {
        "id": "VFNGrgdfnZPK"
      },
      "execution_count": null,
      "outputs": []
    },
    {
      "cell_type": "code",
      "source": [
        "car.upper()"
      ],
      "metadata": {
        "id": "8SDmobRZnNsl"
      },
      "execution_count": null,
      "outputs": []
    },
    {
      "cell_type": "code",
      "source": [
        "car = 'Audi'\n",
        "car.lower() == 'audi'"
      ],
      "metadata": {
        "id": "WOnmTIX9m3IQ"
      },
      "execution_count": null,
      "outputs": []
    },
    {
      "cell_type": "markdown",
      "source": [
        "### Desigualdades"
      ],
      "metadata": {
        "id": "QJzj1X6undzm"
      }
    },
    {
      "cell_type": "code",
      "source": [
        "1 != 2"
      ],
      "metadata": {
        "id": "9u0Sho8vno-g"
      },
      "execution_count": null,
      "outputs": []
    },
    {
      "cell_type": "code",
      "source": [
        "'Audi' != 'audi'"
      ],
      "metadata": {
        "id": "EADKhXulntOP"
      },
      "execution_count": null,
      "outputs": []
    },
    {
      "cell_type": "code",
      "source": [
        "2 != 2.0"
      ],
      "metadata": {
        "id": "lRCCtFKBnweq"
      },
      "execution_count": null,
      "outputs": []
    },
    {
      "cell_type": "code",
      "source": [
        "requested_topping = 'champiñones'\n",
        "\n",
        "if requested_topping != 'Anchoas':\n",
        "  print(\"Sostén las Anchoas!\")\n"
      ],
      "metadata": {
        "id": "4x_KuchGnhHR"
      },
      "execution_count": null,
      "outputs": []
    },
    {
      "cell_type": "markdown",
      "source": [
        "### Comparar Números"
      ],
      "metadata": {
        "id": "9hZEAyQNpIDq"
      }
    },
    {
      "cell_type": "code",
      "source": [
        "age = 18\n",
        "age == 18"
      ],
      "metadata": {
        "id": "TkAawBSMpHmN"
      },
      "execution_count": null,
      "outputs": []
    },
    {
      "cell_type": "code",
      "source": [
        "answer = 17\n",
        "\n",
        "if answer != 42:\n",
        "  print(\"Respuesta incorrecta, intenta nuevamente!\")"
      ],
      "metadata": {
        "id": "cuh3qVzEp14h"
      },
      "execution_count": null,
      "outputs": []
    },
    {
      "cell_type": "code",
      "source": [
        "answer = int(input('Ingrese su respuesta: '))\n",
        "\n",
        "if answer != 42:\n",
        "  print(\"Respuesta incorrecta, intenta nuevamente!\")"
      ],
      "metadata": {
        "id": "Q8P2FyvworiB"
      },
      "execution_count": null,
      "outputs": []
    },
    {
      "cell_type": "code",
      "source": [
        "age = 19\n",
        "age < 21"
      ],
      "metadata": {
        "id": "BSGJ9oNEqCOj"
      },
      "execution_count": null,
      "outputs": []
    },
    {
      "cell_type": "code",
      "source": [
        "age <= 21"
      ],
      "metadata": {
        "id": "wf3dMEHIqGh-"
      },
      "execution_count": null,
      "outputs": []
    },
    {
      "cell_type": "code",
      "source": [
        "age > 21"
      ],
      "metadata": {
        "id": "ALtGWaW_qIEG"
      },
      "execution_count": null,
      "outputs": []
    },
    {
      "cell_type": "code",
      "source": [
        "age >= 21"
      ],
      "metadata": {
        "id": "U-sv2_SKqJ3T"
      },
      "execution_count": null,
      "outputs": []
    },
    {
      "cell_type": "markdown",
      "source": [
        "### Condicionales múltiples"
      ],
      "metadata": {
        "id": "Ul7K_VXA69Hg"
      }
    },
    {
      "cell_type": "code",
      "source": [
        "age_0 = 22\n",
        "age_1 = 18\n",
        "age_0 >= 21 and age_1 >= 21"
      ],
      "metadata": {
        "id": "fPhw2J5U7Fgs"
      },
      "execution_count": null,
      "outputs": []
    },
    {
      "cell_type": "code",
      "source": [
        "age_1 = 22\n",
        "age_0 >= 21 and age_1 >= 21"
      ],
      "metadata": {
        "id": "vxSjikcs7zkf"
      },
      "execution_count": null,
      "outputs": []
    },
    {
      "cell_type": "code",
      "source": [
        "(age_0 >= 21) and (age_1 >= 21)"
      ],
      "metadata": {
        "id": "4sdZ7nWN75LC"
      },
      "execution_count": null,
      "outputs": []
    },
    {
      "cell_type": "code",
      "source": [
        "age_0 = 22\n",
        "age_1 = 18\n",
        "age_0 >= 21 or age_1 >= 21"
      ],
      "metadata": {
        "id": "I_gV0j1n8NJA"
      },
      "execution_count": null,
      "outputs": []
    },
    {
      "cell_type": "code",
      "source": [
        "age_0 = 18\n",
        "age_0 >= 21 or age_1 >= 21"
      ],
      "metadata": {
        "id": "OutmfEzZ-9jQ"
      },
      "execution_count": null,
      "outputs": []
    },
    {
      "cell_type": "markdown",
      "source": [
        "### Comprobar si un valor está en una lista"
      ],
      "metadata": {
        "id": "DAVP6_vn_Gn2"
      }
    },
    {
      "cell_type": "code",
      "source": [
        "my_list = ['Aaron', 'Edwin', 'Brandon', 'Carlos']\n",
        "\n",
        "'John' in my_list\n",
        "\n"
      ],
      "metadata": {
        "id": "G4fE0fgxfXZ7",
        "outputId": "ab326ec3-583b-4c4c-e723-e9c1ffc7c1b9",
        "colab": {
          "base_uri": "https://localhost:8080/"
        }
      },
      "execution_count": null,
      "outputs": [
        {
          "output_type": "execute_result",
          "data": {
            "text/plain": [
              "False"
            ]
          },
          "metadata": {},
          "execution_count": 26
        }
      ]
    },
    {
      "cell_type": "code",
      "source": [
        "lenguages = ['R', 'Python', 'C']\n",
        "lenguages"
      ],
      "metadata": {
        "id": "BqPNTASrqwr9"
      },
      "execution_count": null,
      "outputs": []
    },
    {
      "cell_type": "code",
      "source": [
        "lenguages = ['R', 'Python', 'C']\n",
        "'Python' in lenguages"
      ],
      "metadata": {
        "id": "Hd3CcNr6_LRi"
      },
      "execution_count": null,
      "outputs": []
    },
    {
      "cell_type": "code",
      "source": [
        "'Java' in lenguages"
      ],
      "metadata": {
        "id": "gi6lorHh_PXp"
      },
      "execution_count": null,
      "outputs": []
    },
    {
      "cell_type": "markdown",
      "source": [
        "### Comprobar si un valor no está en una lista"
      ],
      "metadata": {
        "id": "izmw4aHktdm_"
      }
    },
    {
      "cell_type": "code",
      "source": [
        "banned_users = ['andrew', 'carolina', 'david']\n",
        "user = 'marie'\n",
        "\n",
        "if user not in banned_users:\n",
        "  print(f\"{user.title()}, no se encuentra en la lista de no deseados.\")"
      ],
      "metadata": {
        "id": "j46TpHdStrRZ"
      },
      "execution_count": null,
      "outputs": []
    },
    {
      "cell_type": "code",
      "source": [
        "banned_users = ['andrew', 'carolina', 'david']\n",
        "user = str(input('Escriba su primer nombre '))\n",
        "\n",
        "if user not in banned_users:\n",
        "  print(f\"{user.title()}, no se encuentra en la lista de no deseados.\")"
      ],
      "metadata": {
        "id": "QdQVnRaurOSY"
      },
      "execution_count": null,
      "outputs": []
    },
    {
      "cell_type": "code",
      "source": [
        "a = int(input('escribe un número: '))"
      ],
      "metadata": {
        "id": "M8odBorDrs_P"
      },
      "execution_count": null,
      "outputs": []
    },
    {
      "cell_type": "code",
      "source": [
        "a"
      ],
      "metadata": {
        "id": "NkGEwRFJsLf_"
      },
      "execution_count": null,
      "outputs": []
    },
    {
      "cell_type": "markdown",
      "source": [
        "### Condicionales"
      ],
      "metadata": {
        "id": "VuE2syKZt2yQ"
      }
    },
    {
      "cell_type": "code",
      "source": [
        "game_active = True\n",
        "can_edit = False"
      ],
      "metadata": {
        "id": "rQUWREUEt16h"
      },
      "execution_count": null,
      "outputs": []
    },
    {
      "cell_type": "code",
      "source": [
        "car = 'subaru'\n",
        "print(\"Is car == 'subaru'? I predict True.\")\n",
        "print(car == 'subaru')\n",
        "\n",
        "print(\"\\nIs car == 'audi'? I predict False.\")\n",
        "print(car == 'audi')"
      ],
      "metadata": {
        "id": "SBZqQdhluO0S"
      },
      "execution_count": null,
      "outputs": []
    },
    {
      "cell_type": "markdown",
      "source": [
        "### Sentencias simples con IF"
      ],
      "metadata": {
        "id": "Ytw_L2R5mQlw"
      }
    },
    {
      "cell_type": "code",
      "source": [
        "age = 19\n",
        "if age >= 18:\n",
        "  print(\"Ya tienes edad suficiente para votar!\")"
      ],
      "metadata": {
        "id": "Ju_Xf1CqvTYk"
      },
      "execution_count": null,
      "outputs": []
    },
    {
      "cell_type": "code",
      "source": [
        "age = 19\n",
        "if age >= 18:\n",
        "  print(\"Ya tienes edad suficiente para votar!\")\n",
        "  print(\"Todavía no te has registrado?\")"
      ],
      "metadata": {
        "id": "adkHe7g5vj0R"
      },
      "execution_count": null,
      "outputs": []
    },
    {
      "cell_type": "markdown",
      "source": [
        "### Sentencias else-IF"
      ],
      "metadata": {
        "id": "V3FACa5Mv5vv"
      }
    },
    {
      "cell_type": "code",
      "source": [
        "age = 17\n",
        "if age >= 18:\n",
        "  print(\"Ya tienes edad suficiente para votar!\")\n",
        "  print(\"Todavía no te has registrado?\")\n",
        "else:\n",
        "  print(\"Lo sentimos, eres muy joven para votar!\")\n",
        "  print(\"Por favor registrate cuando cumplas 18!\")"
      ],
      "metadata": {
        "id": "_TU6P_Ehv5Pe"
      },
      "execution_count": null,
      "outputs": []
    },
    {
      "cell_type": "code",
      "source": [
        "age = 12\n",
        "\n",
        "if age < 4:\n",
        "  print(\"Your admission cost is $0.\")\n",
        "elif age < 18:\n",
        "  print(\"Your admission cost is $25.\")\n",
        "else:\n",
        "  print(\"Your admission cost is $40.\")"
      ],
      "metadata": {
        "id": "_iVAhpxgwDeI"
      },
      "execution_count": null,
      "outputs": []
    },
    {
      "cell_type": "code",
      "source": [
        "age = 12\n",
        "\n",
        "if age < 4:\n",
        "  price = 0\n",
        "elif age < 18:\n",
        "  price = 25\n",
        "else:\n",
        "  price = 40\n",
        "\n",
        "print(f\"Your admission cost is ${price}.\")\n"
      ],
      "metadata": {
        "id": "3t0oLWYh8nvN"
      },
      "execution_count": null,
      "outputs": []
    },
    {
      "cell_type": "markdown",
      "source": [
        "### Múltiples bloques"
      ],
      "metadata": {
        "id": "J4M0xWQD85AW"
      }
    },
    {
      "cell_type": "code",
      "source": [
        "age = 12\n",
        "\n",
        "if age < 4:\n",
        "  price = 0\n",
        "elif age < 18:\n",
        "  price = 25\n",
        "elif age < 65:\n",
        "  price = 40\n",
        "else:\n",
        "  price = 20\n",
        "\n",
        "print(f\"Your admission cost is ${price}.\")"
      ],
      "metadata": {
        "id": "i8L7x2LEvz4Y"
      },
      "execution_count": null,
      "outputs": []
    },
    {
      "cell_type": "markdown",
      "source": [
        "### Ignorando el bloque else"
      ],
      "metadata": {
        "id": "JsTUAkF89QmD"
      }
    },
    {
      "cell_type": "code",
      "source": [
        "age = 12\n",
        "\n",
        "if age < 4:\n",
        "  price = 0\n",
        "elif age < 18:\n",
        "  price = 25\n",
        "elif age < 65:\n",
        "  price = 40\n",
        "elif age >= 65:\n",
        "  price = 20\n",
        "\n",
        "print(f\"Your admission cost is ${price}.\")\n"
      ],
      "metadata": {
        "id": "_nimoq4F9XHY"
      },
      "execution_count": null,
      "outputs": []
    },
    {
      "cell_type": "markdown",
      "source": [
        "### Probando múltiples condiciones"
      ],
      "metadata": {
        "id": "_8dO4jjn-Ga_"
      }
    },
    {
      "cell_type": "code",
      "source": [
        "requested_toppings = ['mushrooms', 'extra cheese']\n",
        "\n",
        "if 'mushrooms' in requested_toppings:\n",
        "  print(\"Adding mushrooms.\")\n",
        "if 'pepperoni' in requested_toppings:\n",
        "  print(\"Adding pepperoni.\")\n",
        "if 'extra cheese' in requested_toppings:\n",
        "  print(\"Adding extra cheese.\")\n",
        "\n",
        "print(\"\\nFinished making your pizza!\")"
      ],
      "metadata": {
        "id": "WVSk663p9qhJ"
      },
      "execution_count": null,
      "outputs": []
    },
    {
      "cell_type": "code",
      "execution_count": null,
      "metadata": {
        "id": "gfZbhzLN7ptc"
      },
      "outputs": [],
      "source": [
        "num1 = float(input('Ingrese el primer número: '))\n",
        "num2 = float(input('Ingrese el segundo número: '))\n",
        "\n",
        "if num1 > num2:\n",
        "  print('num1 es mayor')\n",
        "else:\n",
        "  print('num2 es mayor')"
      ]
    },
    {
      "cell_type": "markdown",
      "source": [
        "<b> Ejercicio 1</b>\n",
        "\n",
        "Imagina que un extraterrestre acaba de ser derribado en un juego. Cree una variable llamada alien_color y asígnele un valor de 'verde', 'amarillo' o 'rojo'.\n",
        "\n",
        "Escribe una declaración if para probar si el color del extraterrestre es verde. Si es así, imprime un mensaje de que el jugador acaba de ganar 5 puntos."
      ],
      "metadata": {
        "id": "Y-WZOmge-ddV"
      }
    },
    {
      "cell_type": "markdown",
      "source": [
        "<b> Ejercicio 2</b>\n",
        "\n",
        "Elija un color para un extraterrestre como lo hizo en el Ejercicio anterior y escriba una cadena if-else.\n",
        "\n",
        "Si el alienígena es verde, imprime un mensaje de que el jugador obtuvo 5 puntos.\n",
        "Si el alienígena es amarillo, imprime un mensaje de que el jugador obtuvo 10 puntos.\n",
        "Si el alienígena es rojo, imprime un mensaje de que el jugador obtuvo 15 puntos."
      ],
      "metadata": {
        "id": "fe2t6tUu-_sX"
      }
    },
    {
      "cell_type": "markdown",
      "source": [
        "<b>Ejercicio</b>\n",
        "\n",
        "Pregunte al usuario su edad, si esta es mayor igual a 18 años, imprima un mensaje que indique que puede votar, si la presona es menor que 18 años ,imprima un mensaje de que aun no cumple mayoría de edad, finalmente si la persona supera los 65 años, imprima un mensaje de que supera el umbral de edad para votar.\n",
        "\n",
        "Extra: A las personas que sean aptas para votar preguntele su candidato y guadelo en una lista la cual se imprimirá el finalizar el programa.\n"
      ],
      "metadata": {
        "id": "fPE1Lw9FgUJX"
      }
    },
    {
      "cell_type": "code",
      "source": [],
      "metadata": {
        "id": "yIQ-YbnZgT3E"
      },
      "execution_count": null,
      "outputs": []
    },
    {
      "cell_type": "markdown",
      "source": [
        "# Sentencias While"
      ],
      "metadata": {
        "id": "tQ7O2WPW_uWn"
      }
    },
    {
      "cell_type": "code",
      "source": [
        "i = 0\n",
        "\n",
        "while i < 10:\n",
        "  print(i)\n",
        "  i += 1  #i = i + 1\n"
      ],
      "metadata": {
        "colab": {
          "base_uri": "https://localhost:8080/"
        },
        "id": "xrAfK8lo8wJx",
        "outputId": "4a58f1ab-76e4-4cb9-c4af-47c71724cd07"
      },
      "execution_count": null,
      "outputs": [
        {
          "output_type": "stream",
          "name": "stdout",
          "text": [
            "0\n",
            "1\n",
            "2\n",
            "3\n",
            "4\n",
            "5\n",
            "6\n",
            "7\n",
            "8\n",
            "9\n"
          ]
        }
      ]
    },
    {
      "cell_type": "code",
      "source": [
        "i = 0\n",
        "\n",
        "while i in range(0, 10):\n",
        "  print(i)\n",
        "  i += 1  #i = i + 1\n"
      ],
      "metadata": {
        "colab": {
          "base_uri": "https://localhost:8080/"
        },
        "id": "hZ-4HS_g6w29",
        "outputId": "1f51d955-9c50-4349-9466-edf317e86365"
      },
      "execution_count": null,
      "outputs": [
        {
          "output_type": "stream",
          "name": "stdout",
          "text": [
            "0\n",
            "1\n",
            "2\n",
            "3\n",
            "4\n",
            "5\n",
            "6\n",
            "7\n",
            "8\n",
            "9\n"
          ]
        }
      ]
    },
    {
      "cell_type": "code",
      "source": [
        "i"
      ],
      "metadata": {
        "colab": {
          "base_uri": "https://localhost:8080/"
        },
        "id": "EcSDt7CR8TQo",
        "outputId": "f57fd006-9f0d-4ec7-e53b-30baf3c8c0f0"
      },
      "execution_count": null,
      "outputs": [
        {
          "output_type": "execute_result",
          "data": {
            "text/plain": [
              "10"
            ]
          },
          "metadata": {},
          "execution_count": 5
        }
      ]
    },
    {
      "cell_type": "code",
      "source": [
        "current_number = 1\n",
        "while current_number <= 5:\n",
        "    print(current_number)\n",
        "    current_number += 1"
      ],
      "metadata": {
        "id": "FGmYSyUY9P1a",
        "colab": {
          "base_uri": "https://localhost:8080/"
        },
        "outputId": "fd267865-d602-4e17-ef56-c6ec17531cac"
      },
      "execution_count": null,
      "outputs": [
        {
          "output_type": "stream",
          "name": "stdout",
          "text": [
            "1\n",
            "2\n",
            "3\n",
            "4\n",
            "5\n"
          ]
        }
      ]
    },
    {
      "cell_type": "markdown",
      "source": [
        "**Ejecicio**\n",
        "\n",
        "Imprima todos los números múltiplos de 7 menores que 100 usando un bucle de tipo while.\n"
      ],
      "metadata": {
        "id": "zaCyaPYo9Qer"
      }
    },
    {
      "cell_type": "code",
      "source": [
        "import time"
      ],
      "metadata": {
        "id": "XPXTGo0f_-IA"
      },
      "execution_count": null,
      "outputs": []
    },
    {
      "cell_type": "code",
      "source": [
        "var = time.time()"
      ],
      "metadata": {
        "id": "a7REK6t3ADpb"
      },
      "execution_count": null,
      "outputs": []
    },
    {
      "cell_type": "code",
      "source": [
        "var2 = time.time()"
      ],
      "metadata": {
        "id": "bh8hz8awAR_G"
      },
      "execution_count": null,
      "outputs": []
    },
    {
      "cell_type": "code",
      "source": [
        "var2 - var"
      ],
      "metadata": {
        "colab": {
          "base_uri": "https://localhost:8080/"
        },
        "id": "auUPkFh1AY4s",
        "outputId": "eff51fd5-c97d-4229-9e89-839df6999e69"
      },
      "execution_count": null,
      "outputs": [
        {
          "output_type": "execute_result",
          "data": {
            "text/plain": [
              "10.879948377609253"
            ]
          },
          "metadata": {},
          "execution_count": 19
        }
      ]
    },
    {
      "cell_type": "code",
      "source": [
        "20 % 2"
      ],
      "metadata": {
        "colab": {
          "base_uri": "https://localhost:8080/"
        },
        "id": "2lpH20FaC9Su",
        "outputId": "e5818f16-6275-4cfb-e5d7-2dff1de52e2c"
      },
      "execution_count": null,
      "outputs": [
        {
          "output_type": "execute_result",
          "data": {
            "text/plain": [
              "0"
            ]
          },
          "metadata": {},
          "execution_count": 26
        }
      ]
    },
    {
      "cell_type": "code",
      "source": [
        "start = time.time()\n",
        "a = 0\n",
        "while a < 100_000_000:\n",
        "  if a % 7 == 0:\n",
        "    1\n",
        "    #print(a)\n",
        "  a += 1\n",
        "elapsed = time.time() - start\n",
        "print(f'process elapsed {elapsed} seconds')"
      ],
      "metadata": {
        "colab": {
          "base_uri": "https://localhost:8080/"
        },
        "id": "dWXKOSXu9ea7",
        "outputId": "9b473511-9e17-40a8-a21a-253578a8aa41"
      },
      "execution_count": null,
      "outputs": [
        {
          "output_type": "stream",
          "name": "stdout",
          "text": [
            "process elapsed 20.165672540664673 seconds\n"
          ]
        }
      ]
    },
    {
      "cell_type": "code",
      "source": [
        "start = time.time()\n",
        "a = 0\n",
        "while a*7 < 100_000_000:\n",
        "  #print(a*7)\n",
        "  a += 1\n",
        "elapsed = time.time() - start\n",
        "print(f'process elapsed {elapsed} seconds')\n",
        "\n"
      ],
      "metadata": {
        "colab": {
          "base_uri": "https://localhost:8080/"
        },
        "id": "hDWeHNfu_U_s",
        "outputId": "445705d8-a71c-4e8b-b585-93d93e45a7d3"
      },
      "execution_count": null,
      "outputs": [
        {
          "output_type": "stream",
          "name": "stdout",
          "text": [
            "process elapsed 3.108855962753296 seconds\n"
          ]
        }
      ]
    },
    {
      "cell_type": "code",
      "source": [
        "%%time\n",
        "a = 0\n",
        "while a*7 < 100_000_000:\n",
        "  #print(a*7)\n",
        "  a += 1"
      ],
      "metadata": {
        "colab": {
          "base_uri": "https://localhost:8080/"
        },
        "id": "nxdi2EhGL34Z",
        "outputId": "0c764e4b-09d2-45bf-d804-6e55c79d2011"
      },
      "execution_count": null,
      "outputs": [
        {
          "output_type": "stream",
          "name": "stdout",
          "text": [
            "CPU times: user 1.98 s, sys: 3.4 ms, total: 1.98 s\n",
            "Wall time: 1.99 s\n"
          ]
        }
      ]
    },
    {
      "cell_type": "code",
      "source": [
        "3/20"
      ],
      "metadata": {
        "colab": {
          "base_uri": "https://localhost:8080/"
        },
        "id": "VGBgCZWcCgYc",
        "outputId": "56b7cd06-1bac-4cc1-a988-9ef3a71d0dd5"
      },
      "execution_count": null,
      "outputs": [
        {
          "output_type": "execute_result",
          "data": {
            "text/plain": [
              "0.15"
            ]
          },
          "metadata": {},
          "execution_count": 24
        }
      ]
    },
    {
      "cell_type": "code",
      "source": [
        "prompt = \"\\nDime algo y lo repetire:\"\n",
        "prompt += \"\\nEscribe 'salir' para finalizar. \"\n",
        "\n",
        "message = \"\"\n",
        "\n",
        "while message != 'salir':\n",
        "  message = input(prompt)\n",
        "  print(message)\n"
      ],
      "metadata": {
        "id": "cdDL7YMjCSIf",
        "colab": {
          "base_uri": "https://localhost:8080/"
        },
        "outputId": "7319b585-c828-494b-cb8f-2d30c3069bcc"
      },
      "execution_count": null,
      "outputs": [
        {
          "output_type": "stream",
          "name": "stdout",
          "text": [
            "\n",
            "Dime algo y lo repetire:\n",
            "Escribe 'salir' para finalizar. hola\n",
            "hola\n",
            "\n",
            "Dime algo y lo repetire:\n",
            "Escribe 'salir' para finalizar. hi\n",
            "hi\n",
            "\n",
            "Dime algo y lo repetire:\n",
            "Escribe 'salir' para finalizar. salir\n",
            "salir\n"
          ]
        }
      ]
    },
    {
      "cell_type": "markdown",
      "source": [
        "### Usado una constante"
      ],
      "metadata": {
        "id": "2csEiLu2DJUI"
      }
    },
    {
      "cell_type": "code",
      "source": [
        "active = True\n",
        "while active:\n",
        "  message = input(\"\\nDime algo y lo repetire: \\nEscribe 'salir' para finalizar. \")\n",
        "  if message.lower() == 'salir':\n",
        "    active = False\n",
        "  else:\n",
        "    print(message)\n"
      ],
      "metadata": {
        "colab": {
          "base_uri": "https://localhost:8080/"
        },
        "id": "QAQuGLTjNjcS",
        "outputId": "2b531dbe-1ea8-45c5-9711-b49aa885e315"
      },
      "execution_count": null,
      "outputs": [
        {
          "name": "stdout",
          "output_type": "stream",
          "text": [
            "\n",
            "Dime algo y lo repetire: \n",
            "Escribe 'salir' para finalizar. saliR\n"
          ]
        }
      ]
    },
    {
      "cell_type": "markdown",
      "source": [
        "**Ejercicio**\n",
        "\n",
        "Desarrolle un programa que calcule si un número es múltiplo de 7 y que imprima un mensaje de confirmación o caso contrario indique el residuo. Este programa debe permanecer activo hasta que el usuario decida salir. Finalmente al finalizar el programa indique al usuario el tiempo que permaneció activo.\n"
      ],
      "metadata": {
        "id": "XGbWbvITObw7"
      }
    },
    {
      "cell_type": "code",
      "source": [
        "\n",
        "%%time\n",
        "active = True\n",
        "while active:\n",
        "  num = input('Ingrese un número o escriba salir para terminar el programa: ')\n",
        "  if num.lower() == 'salir':\n",
        "    active = False\n",
        "    print('programa finalizado')\n",
        "  elif int(num) % 7 == 0:\n",
        "    print(f'{num} es múltiplo de 7')\n",
        "  else:\n",
        "    print(f'{num} no es múltiplo de 7, el residuo es {int(num) % 7}')\n"
      ],
      "metadata": {
        "colab": {
          "base_uri": "https://localhost:8080/"
        },
        "id": "jq3lhej6O58O",
        "outputId": "fd2acc23-9f71-457e-d061-232ed88c123a"
      },
      "execution_count": null,
      "outputs": [
        {
          "output_type": "stream",
          "name": "stdout",
          "text": [
            "Ingrese un número o escriba salir para terminar el programa: salir\n",
            "programa finalizado\n",
            "CPU times: user 65.3 ms, sys: 7.5 ms, total: 72.8 ms\n",
            "Wall time: 3.58 s\n"
          ]
        }
      ]
    },
    {
      "cell_type": "code",
      "source": [
        "active = True\n",
        "while active:\n",
        "  message = input(prompt)\n",
        "\n",
        "  if message == 'salir':\n",
        "    active = False\n",
        "  else:\n",
        "    print(message)"
      ],
      "metadata": {
        "id": "8T4IvpXNDHgd"
      },
      "execution_count": null,
      "outputs": []
    },
    {
      "cell_type": "markdown",
      "source": [
        "### Break"
      ],
      "metadata": {
        "id": "n_eoK86YDid8"
      }
    },
    {
      "cell_type": "code",
      "source": [
        "\n",
        "%%time\n",
        "\n",
        "while True:\n",
        "  num = input('Ingrese un número o escriba salir para terminar el programa: ')\n",
        "  if num.lower() == 'salir':\n",
        "    break\n",
        "\n",
        "  try:\n",
        "    if int(num) % 7 == 0:\n",
        "      print(f'{num} es múltiplo de 7')\n",
        "    else:\n",
        "      print(f'{num} no es múltiplo de 7, el residuo es {int(num) % 7}')\n",
        "\n",
        "  except:\n",
        "    print('Opción ingresada incorrecta')\n",
        "    continue\n",
        "\n"
      ],
      "metadata": {
        "id": "6Mu2Mu6EDn22",
        "colab": {
          "base_uri": "https://localhost:8080/"
        },
        "outputId": "9db06de2-017c-43d0-8a1b-a1c7b9d59e69"
      },
      "execution_count": null,
      "outputs": [
        {
          "output_type": "stream",
          "name": "stdout",
          "text": [
            "Ingrese un número o escriba salir para terminar el programa: hola\n",
            "Opción ingresada incorrecta\n",
            "Ingrese un número o escriba salir para terminar el programa: salir\n",
            "CPU times: user 469 ms, sys: 69.3 ms, total: 538 ms\n",
            "Wall time: 24.8 s\n"
          ]
        }
      ]
    },
    {
      "cell_type": "markdown",
      "source": [
        "### Continue"
      ],
      "metadata": {
        "id": "ritP2QOiD344"
      }
    },
    {
      "cell_type": "code",
      "source": [
        "prompt = 'Ingrese el nombre de una ciudad o salir para terminar el programa: '\n",
        "\n",
        "while True:\n",
        "       city = input(prompt)\n",
        "\n",
        "       if city == 'salir':\n",
        "           break\n",
        "           print('esta es una prueba')\n",
        "       else:\n",
        "           print(f\"Me encantaría ir a {city.title()}!\")\n",
        "\n",
        "\n"
      ],
      "metadata": {
        "id": "8cL05QVZUCgS"
      },
      "execution_count": null,
      "outputs": []
    },
    {
      "cell_type": "code",
      "source": [
        "current_number = 0\n",
        "\n",
        "while current_number < 10:\n",
        "  current_number += 1\n",
        "  if current_number % 2 == 0:\n",
        "    continue\n",
        "  print(current_number)"
      ],
      "metadata": {
        "colab": {
          "base_uri": "https://localhost:8080/"
        },
        "id": "N5XqrJmYUq_U",
        "outputId": "947f0f22-fa3b-42e5-8830-3adfee44e19e"
      },
      "execution_count": null,
      "outputs": [
        {
          "output_type": "stream",
          "name": "stdout",
          "text": [
            "1\n",
            "3\n",
            "5\n",
            "7\n",
            "9\n"
          ]
        }
      ]
    },
    {
      "cell_type": "code",
      "source": [
        "current_number = 0\n",
        "\n",
        "while current_number < 10:\n",
        "  current_number += 1\n",
        "  if current_number % 2 == 0:\n",
        "    continue\n",
        "  print(current_number)"
      ],
      "metadata": {
        "id": "yYFFKYJwD74o",
        "colab": {
          "base_uri": "https://localhost:8080/"
        },
        "outputId": "ce4c945a-f0d4-4eb5-e0ec-e718dc26cece"
      },
      "execution_count": null,
      "outputs": [
        {
          "output_type": "stream",
          "name": "stdout",
          "text": [
            "1\n",
            "3\n",
            "5\n",
            "7\n",
            "9\n"
          ]
        }
      ]
    },
    {
      "cell_type": "markdown",
      "source": [
        "### Evitando Loops infinitos"
      ],
      "metadata": {
        "id": "YHli8JqnEsX6"
      }
    },
    {
      "cell_type": "code",
      "source": [
        "x = 1\n",
        "while x <= 5:\n",
        "    print(x)\n",
        "    x += 1"
      ],
      "metadata": {
        "id": "Eof0p3NkExEN"
      },
      "execution_count": null,
      "outputs": []
    },
    {
      "cell_type": "code",
      "source": [
        "# This loop runs forever!\n",
        "x = 1\n",
        "while x <= 5:\n",
        "    print(x)"
      ],
      "metadata": {
        "id": "QxCazgC8E1A7"
      },
      "execution_count": null,
      "outputs": []
    },
    {
      "cell_type": "markdown",
      "source": [
        "<b> Ejercicio 1</b>\n",
        "\n",
        "Escriba un ciclo que solicite al usuario que ingrese una serie de ingredientes para la pizza hasta que ingrese un valor de 'salir'. A medida que ingresen cada ingrediente, imprima un mensaje que diga que agregará ese ingrediente a su pizza."
      ],
      "metadata": {
        "id": "NzzH8uoCFAMM"
      }
    },
    {
      "cell_type": "markdown",
      "source": [
        "<b> Ejercicio 2</b>\n",
        "\n",
        "Un cine cobra diferentes precios de boletos dependiendo de la edad de una persona. Si una persona es menor de 3 años, la entrada es gratuita; si son entre 3 y 12, el boleto cuesta s/. 10; y si son mayores de 12 años, el boleto cuesta s/. 15. Escriba un ciclo en el que pregunte a los usuarios su edad y luego dígales el costo de su boleto de cine."
      ],
      "metadata": {
        "id": "ATFL1LTaFDoF"
      }
    },
    {
      "cell_type": "markdown",
      "source": [
        "# 3. Sentencia For"
      ],
      "metadata": {
        "id": "wGafafRIF6Bz"
      }
    },
    {
      "cell_type": "code",
      "source": [
        "\n",
        "lista = ['John', 'Carlos', 'Jose']\n",
        "\n",
        "for name in lista:\n",
        "  print(f'Bienvenido {name}')\n",
        "\n",
        "print('gracias por asistir!')"
      ],
      "metadata": {
        "id": "0TO-g_vnzIxv",
        "outputId": "3c1590cf-74f4-4f6d-f788-9921a19c9922",
        "colab": {
          "base_uri": "https://localhost:8080/"
        }
      },
      "execution_count": null,
      "outputs": [
        {
          "output_type": "stream",
          "name": "stdout",
          "text": [
            "Bienvenido John\n",
            "Bienvenido Carlos\n",
            "Bienvenido Jose\n",
            "gracias por asistir!\n"
          ]
        }
      ]
    },
    {
      "cell_type": "code",
      "source": [
        "magicians = ['alice', 'david', 'carolina']\n",
        "\n",
        "for magician in magicians:\n",
        "  print(f\"{magician.title()}, that was a great trick!\")\n"
      ],
      "metadata": {
        "id": "xh9IzPvpGddX",
        "colab": {
          "base_uri": "https://localhost:8080/"
        },
        "outputId": "e801377d-858d-4943-edab-557af4135010"
      },
      "execution_count": null,
      "outputs": [
        {
          "output_type": "stream",
          "name": "stdout",
          "text": [
            "Alice, that was a great trick!\n",
            "David, that was a great trick!\n",
            "Carolina, that was a great trick!\n"
          ]
        }
      ]
    },
    {
      "cell_type": "code",
      "source": [
        "magicians = ['alice', 'david', 'carolina']\n",
        "\n",
        "for magician in magicians:\n",
        "  print(f\"{magician.title()}, that was a great trick!\")\n",
        "  print(f\"I can't wait to see your next trick, {magician.title()}.\\n\")\n",
        "\n",
        "\n"
      ],
      "metadata": {
        "id": "iZaVoq2xGlt0",
        "colab": {
          "base_uri": "https://localhost:8080/"
        },
        "outputId": "1cac490c-43dc-425b-9fbd-57d32263f5ee"
      },
      "execution_count": null,
      "outputs": [
        {
          "output_type": "stream",
          "name": "stdout",
          "text": [
            "Alice, that was a great trick!\n",
            "I can't wait to see your next trick, Alice.\n",
            "\n",
            "David, that was a great trick!\n",
            "I can't wait to see your next trick, David.\n",
            "\n",
            "Carolina, that was a great trick!\n",
            "I can't wait to see your next trick, Carolina.\n",
            "\n"
          ]
        }
      ]
    },
    {
      "cell_type": "code",
      "source": [
        "magicians = ['alice', 'david', 'carolina']\n",
        "\n",
        "for magician in magicians:\n",
        "    print(f\"{magician.title()}, that was a great trick!\")\n",
        "    print(f\"I can't wait to see your next trick, {magician.title()}.\\n\")\n",
        "\n",
        "print(\"Thank you, everyone. That was a great magic show!\")"
      ],
      "metadata": {
        "id": "_fm04h69G6nm",
        "colab": {
          "base_uri": "https://localhost:8080/"
        },
        "outputId": "01d6d03e-2495-4067-fc53-f6f117add850"
      },
      "execution_count": null,
      "outputs": [
        {
          "output_type": "stream",
          "name": "stdout",
          "text": [
            "Alice, that was a great trick!\n",
            "I can't wait to see your next trick, Alice.\n",
            "\n",
            "David, that was a great trick!\n",
            "I can't wait to see your next trick, David.\n",
            "\n",
            "Carolina, that was a great trick!\n",
            "I can't wait to see your next trick, Carolina.\n",
            "\n",
            "Thank you, everyone. That was a great magic show!\n"
          ]
        }
      ]
    },
    {
      "cell_type": "markdown",
      "source": [
        "### Olvidando la identación"
      ],
      "metadata": {
        "id": "C1qC64EEHDM-"
      }
    },
    {
      "cell_type": "code",
      "source": [
        "magicians = ['alice', 'david', 'carolina']\n",
        "for magician in magicians:\n",
        "print(magician)"
      ],
      "metadata": {
        "id": "eZ2wML7nHH5i",
        "colab": {
          "base_uri": "https://localhost:8080/",
          "height": 106
        },
        "outputId": "6c0f816b-2a32-4ca3-940c-e9b5b7fecb6c"
      },
      "execution_count": null,
      "outputs": [
        {
          "output_type": "error",
          "ename": "IndentationError",
          "evalue": "expected an indented block after 'for' statement on line 2 (<ipython-input-76-bc3e0c643e2b>, line 3)",
          "traceback": [
            "\u001b[0;36m  File \u001b[0;32m\"<ipython-input-76-bc3e0c643e2b>\"\u001b[0;36m, line \u001b[0;32m3\u001b[0m\n\u001b[0;31m    print(magician)\u001b[0m\n\u001b[0m    ^\u001b[0m\n\u001b[0;31mIndentationError\u001b[0m\u001b[0;31m:\u001b[0m expected an indented block after 'for' statement on line 2\n"
          ]
        }
      ]
    },
    {
      "cell_type": "markdown",
      "source": [
        "**Ejercicio**\n",
        "\n",
        "Imprima todos los números múltiplos de 7 menores que 100."
      ],
      "metadata": {
        "id": "D3bIn1Zy02YY"
      }
    },
    {
      "cell_type": "code",
      "source": [
        "var = 'Java'\n",
        "var in ['R', 'Python', 'Spark']"
      ],
      "metadata": {
        "colab": {
          "base_uri": "https://localhost:8080/"
        },
        "id": "Dr5fJZQC5NjG",
        "outputId": "4ae6d88c-22f1-4fea-89cc-3651095e1aac"
      },
      "execution_count": null,
      "outputs": [
        {
          "output_type": "execute_result",
          "data": {
            "text/plain": [
              "False"
            ]
          },
          "metadata": {},
          "execution_count": 2
        }
      ]
    },
    {
      "cell_type": "code",
      "source": [
        "var = 2\n",
        "var in range(0, 9)\n"
      ],
      "metadata": {
        "colab": {
          "base_uri": "https://localhost:8080/"
        },
        "id": "2OvMn3E35tbm",
        "outputId": "dfc6e7b5-b4bc-4823-beab-3466698226d2"
      },
      "execution_count": null,
      "outputs": [
        {
          "output_type": "execute_result",
          "data": {
            "text/plain": [
              "True"
            ]
          },
          "metadata": {},
          "execution_count": 3
        }
      ]
    },
    {
      "cell_type": "code",
      "source": [
        "for name in ['R', 'Python', 'Spark']:\n",
        "\n"
      ],
      "metadata": {
        "id": "JyqyyK9G4_gl"
      },
      "execution_count": null,
      "outputs": []
    },
    {
      "cell_type": "code",
      "source": [
        "\n",
        "for num in range(0, 100):\n",
        "  if num % 7 == 0:\n",
        "    print(f'{num} es múltiplo de 7')\n"
      ],
      "metadata": {
        "id": "KCd3Ykk31EAZ",
        "outputId": "18ea715b-5340-41c1-ee39-a4ea84695155",
        "colab": {
          "base_uri": "https://localhost:8080/"
        }
      },
      "execution_count": null,
      "outputs": [
        {
          "output_type": "stream",
          "name": "stdout",
          "text": [
            "0 es múltiplo de 7\n",
            "7 es múltiplo de 7\n",
            "14 es múltiplo de 7\n",
            "21 es múltiplo de 7\n",
            "28 es múltiplo de 7\n",
            "35 es múltiplo de 7\n",
            "42 es múltiplo de 7\n",
            "49 es múltiplo de 7\n",
            "56 es múltiplo de 7\n",
            "63 es múltiplo de 7\n",
            "70 es múltiplo de 7\n",
            "77 es múltiplo de 7\n",
            "84 es múltiplo de 7\n",
            "91 es múltiplo de 7\n",
            "98 es múltiplo de 7\n"
          ]
        }
      ]
    },
    {
      "cell_type": "markdown",
      "source": [
        "**Ejercicio**\n",
        "\n",
        "Almacene en una lista todos los números múltiplos de 7 menores que 100. Luego imprima esa lista"
      ],
      "metadata": {
        "id": "o2byLzU_3dQB"
      }
    },
    {
      "cell_type": "markdown",
      "source": [],
      "metadata": {
        "id": "JHO37JsM6Rz8"
      }
    },
    {
      "cell_type": "code",
      "source": [
        "1 % 7"
      ],
      "metadata": {
        "id": "mi7hHIZ05S1h",
        "outputId": "5f251f02-4400-48eb-aab4-ff475c5e2e3d",
        "colab": {
          "base_uri": "https://localhost:8080/"
        }
      },
      "execution_count": null,
      "outputs": [
        {
          "output_type": "execute_result",
          "data": {
            "text/plain": [
              "1"
            ]
          },
          "metadata": {},
          "execution_count": 84
        }
      ]
    },
    {
      "cell_type": "code",
      "source": [
        "lista = []\n",
        "\n",
        "for num in range(0, 100):\n",
        "  if num % 7 == 0:\n",
        "    lista.append(num)\n",
        "print(lista)\n"
      ],
      "metadata": {
        "id": "PnTXxULI3WQk",
        "outputId": "60c29362-1403-4173-dddc-72d0c91989f0",
        "colab": {
          "base_uri": "https://localhost:8080/"
        }
      },
      "execution_count": null,
      "outputs": [
        {
          "output_type": "stream",
          "name": "stdout",
          "text": [
            "[0, 7, 14, 21, 28, 35, 42, 49, 56, 63, 70, 77, 84, 91, 98]\n"
          ]
        }
      ]
    },
    {
      "cell_type": "code",
      "source": [],
      "metadata": {
        "id": "rm_QPZoV69Rk"
      },
      "execution_count": null,
      "outputs": []
    },
    {
      "cell_type": "markdown",
      "source": [
        "**Ejercicio**\n",
        "\n",
        "Desarrolle un algoritmo que calcule los múltiplos de un número que esten contenidos entre el 0 y n. Almacene en una lista todos esos números  y luego imprima esa lista\n",
        "\n",
        "*Nota: los datos ingresados por el usuario serán:*\n",
        "\n",
        "> n: número límite a evaluar\n",
        "\n",
        "> x: el multiplo a evaluar\n"
      ],
      "metadata": {
        "id": "vQE_5B5h6Qtl"
      }
    },
    {
      "cell_type": "code",
      "source": [
        "\n",
        "n = int(input('Ingrese el número límite a evaluar: '))\n",
        "x = int(input('Ingrese el múltiplo a evaluar: '))\n",
        "\n",
        "lista = []\n",
        "\n",
        "for num in range(0, n + 1):\n",
        "  if num % x == 0:\n",
        "    lista.append(num)\n",
        "print(lista)\n",
        "\n"
      ],
      "metadata": {
        "id": "ekj8eLvr6-GP",
        "outputId": "ede52ed9-1c34-4a7a-9a60-1012ec205256",
        "colab": {
          "base_uri": "https://localhost:8080/"
        }
      },
      "execution_count": null,
      "outputs": [
        {
          "name": "stdout",
          "output_type": "stream",
          "text": [
            "Ingrese el número límite a evaluar: 100\n",
            "Ingrese el múltiplo a evaluar: 13\n"
          ]
        },
        {
          "output_type": "execute_result",
          "data": {
            "text/plain": [
              "8"
            ]
          },
          "metadata": {},
          "execution_count": 88
        }
      ]
    },
    {
      "cell_type": "code",
      "source": [
        "\n",
        "n = int(input('Ingrese el número límite a evaluar: '))\n",
        "x = int(input('Ingrese el múltiplo a evaluar: '))\n",
        "\n",
        "lista = []\n",
        "\n",
        "for num in range(0, n + 1):\n",
        "  if num % x == 0:\n",
        "    lista.append(num)\n",
        "\n",
        "len(lista)\n",
        "\n"
      ],
      "metadata": {
        "id": "fCA5hYfS9EBd"
      },
      "execution_count": null,
      "outputs": []
    },
    {
      "cell_type": "markdown",
      "source": [
        "<b> Ejercicio 1</b>\n",
        "\n",
        "\n",
        "Piensa en al menos tres tipos de tu pizza favorita. Almacene estos nombres de pizza en una lista y luego use un ciclo for para imprimir el nombre de cada pizza.\n",
        "\n",
        "Modifique su ciclo for para imprimir una oración usando el nombre de la pizza en lugar de imprimir solo el nombre de la pizza. Para cada pizza, debe tener una línea de salida que contenga una declaración simple como Me gusta la pizza de pepperoni.\n",
        "Agregue una línea al final de su programa, fuera del bucle for, que indique cuánto le gusta la pizza. El resultado debe constar de tres o más líneas sobre los tipos de pizza que te gustan y luego una oración adicional, como ¡Me encanta la pizza!\n"
      ],
      "metadata": {
        "id": "FHwT_HI5Hedh"
      }
    },
    {
      "cell_type": "markdown",
      "source": [
        "<b> Ejercicio 2</b>\n",
        "\n",
        "Piensa en al menos tres animales diferentes que tengan una característica común. Guarde los nombres de estos animales en una lista y luego use un ciclo for para imprimir el nombre de cada animal.\n",
        "\n",
        "Modifique su programa para imprimir una declaración sobre cada animal, como Un perro sería una gran mascota.\n",
        "Agregue una línea al final de su programa indicando lo que estos animales tienen en común. Podría escribir una oración como ¡Cualquiera de estos animales sería una gran mascota!"
      ],
      "metadata": {
        "id": "CBNrK6wXHnEm"
      }
    },
    {
      "cell_type": "markdown",
      "source": [
        "#List Comprehesion"
      ],
      "metadata": {
        "id": "7O0can6qXPj-"
      }
    },
    {
      "cell_type": "code",
      "source": [
        "[x for x in range(0, 10)]"
      ],
      "metadata": {
        "id": "6U0Ss5EBXVyN",
        "outputId": "fb0f76cb-d969-4308-9605-7a46be0d57ca",
        "colab": {
          "base_uri": "https://localhost:8080/"
        }
      },
      "execution_count": null,
      "outputs": [
        {
          "output_type": "execute_result",
          "data": {
            "text/plain": [
              "[0, 1, 2, 3, 4, 5, 6, 7, 8, 9]"
            ]
          },
          "metadata": {},
          "execution_count": 48
        }
      ]
    },
    {
      "cell_type": "code",
      "source": [
        "[x**2 for x in range(0, 11)]"
      ],
      "metadata": {
        "id": "HoOaUzgiX0jx",
        "outputId": "e6b40363-5068-4cd2-c652-f37a31e81300",
        "colab": {
          "base_uri": "https://localhost:8080/"
        }
      },
      "execution_count": null,
      "outputs": [
        {
          "output_type": "execute_result",
          "data": {
            "text/plain": [
              "[0, 1, 4, 9, 16, 25, 36, 49, 64, 81, 100]"
            ]
          },
          "metadata": {},
          "execution_count": 49
        }
      ]
    },
    {
      "cell_type": "code",
      "source": [
        "[x**2 + x for x in range(0, 1000) if x % 7 == 0]"
      ],
      "metadata": {
        "id": "nuwa0EAbYAtI"
      },
      "execution_count": null,
      "outputs": []
    },
    {
      "cell_type": "code",
      "source": [
        "%%time\n",
        "var = [a for a in range(0, 100_000_000 + 1) if a % 7 == 0]\n"
      ],
      "metadata": {
        "id": "I2QpGWy6Yeah",
        "outputId": "c467cfaf-7f3e-4ab9-ebcd-611a422439fb",
        "colab": {
          "base_uri": "https://localhost:8080/"
        }
      },
      "execution_count": null,
      "outputs": [
        {
          "output_type": "stream",
          "name": "stdout",
          "text": [
            "CPU times: user 7.25 s, sys: 674 ms, total: 7.92 s\n",
            "Wall time: 7.95 s\n"
          ]
        }
      ]
    },
    {
      "cell_type": "code",
      "source": [
        "# prompt: calcula cuantos cpus disponibles hay para paralelizar\n",
        "!nproc"
      ],
      "metadata": {
        "id": "h8UKKjq3ZKXb",
        "outputId": "2a73c1b5-9478-4e52-f9b9-c1e1bcc8dda2",
        "colab": {
          "base_uri": "https://localhost:8080/"
        }
      },
      "execution_count": null,
      "outputs": [
        {
          "output_type": "stream",
          "name": "stdout",
          "text": [
            "2\n"
          ]
        }
      ]
    },
    {
      "cell_type": "code",
      "source": [
        "import os\n",
        "cpus_disponibles = os.cpu_count()\n",
        "print(f\"Número de CPUs disponibles: {cpus_disponibles}\")"
      ],
      "metadata": {
        "id": "oDB2TNyzZxSy",
        "outputId": "f3e6fb97-5368-48fd-b723-03155ffab9ed",
        "colab": {
          "base_uri": "https://localhost:8080/"
        }
      },
      "execution_count": null,
      "outputs": [
        {
          "output_type": "stream",
          "name": "stdout",
          "text": [
            "Número de CPUs disponibles: 2\n"
          ]
        }
      ]
    },
    {
      "cell_type": "code",
      "source": [
        "n = 10\n",
        "[x for x in range(0, n + 1)]\n",
        "#[0 - 11>"
      ],
      "metadata": {
        "id": "FaUKGuNVnTyZ",
        "outputId": "ee9ca831-5288-4182-d517-a72eb1dc58fc",
        "colab": {
          "base_uri": "https://localhost:8080/"
        }
      },
      "execution_count": null,
      "outputs": [
        {
          "output_type": "execute_result",
          "data": {
            "text/plain": [
              "[0, 1, 2, 3, 4, 5, 6, 7, 8, 9, 10]"
            ]
          },
          "metadata": {},
          "execution_count": 28
        }
      ]
    },
    {
      "cell_type": "code",
      "source": [
        "x = 0\n",
        "while x < 10:\n",
        "  x += 1"
      ],
      "metadata": {
        "id": "99CjwXG5n4Jb"
      },
      "execution_count": null,
      "outputs": []
    },
    {
      "cell_type": "code",
      "source": [
        "%%time\n",
        "i = 0\n",
        "while i < 10_000_000:\n",
        "  i += 1  #i = i + 1"
      ],
      "metadata": {
        "id": "Xo8jZDWOoQxf",
        "outputId": "05031f0f-f21a-4430-9497-6335c054fba0",
        "colab": {
          "base_uri": "https://localhost:8080/"
        }
      },
      "execution_count": null,
      "outputs": [
        {
          "output_type": "stream",
          "name": "stdout",
          "text": [
            "CPU times: user 1.07 s, sys: 171 µs, total: 1.07 s\n",
            "Wall time: 1.07 s\n"
          ]
        }
      ]
    },
    {
      "cell_type": "code",
      "source": [
        "%%time\n",
        "i = 0\n",
        "while i in range(0, 10_000_000):\n",
        "  i += 1  #i = i + 1"
      ],
      "metadata": {
        "id": "3I7_EUNjoSxn",
        "outputId": "e093486f-d265-4233-f0b1-d593d437ae90",
        "colab": {
          "base_uri": "https://localhost:8080/"
        }
      },
      "execution_count": null,
      "outputs": [
        {
          "output_type": "stream",
          "name": "stdout",
          "text": [
            "CPU times: user 5.07 s, sys: 0 ns, total: 5.07 s\n",
            "Wall time: 5.16 s\n"
          ]
        }
      ]
    },
    {
      "cell_type": "code",
      "source": [
        "\n",
        " [x**2 for x in range(0, 101) if x <= 20]\n"
      ],
      "metadata": {
        "id": "o6aBBoCafVhT",
        "outputId": "7e627891-984f-4114-d4bb-2efb2da3f952",
        "colab": {
          "base_uri": "https://localhost:8080/"
        }
      },
      "execution_count": null,
      "outputs": [
        {
          "output_type": "execute_result",
          "data": {
            "text/plain": [
              "[0,\n",
              " 1,\n",
              " 4,\n",
              " 9,\n",
              " 16,\n",
              " 25,\n",
              " 36,\n",
              " 49,\n",
              " 64,\n",
              " 81,\n",
              " 100,\n",
              " 121,\n",
              " 144,\n",
              " 169,\n",
              " 196,\n",
              " 225,\n",
              " 256,\n",
              " 289,\n",
              " 324,\n",
              " 361,\n",
              " 400]"
            ]
          },
          "metadata": {},
          "execution_count": 2
        }
      ]
    },
    {
      "cell_type": "code",
      "source": [
        "100/5"
      ],
      "metadata": {
        "id": "57VRW6gOhdDM",
        "outputId": "7fb2d07c-4a8f-48e5-f6ea-a1cb167c7634",
        "colab": {
          "base_uri": "https://localhost:8080/"
        }
      },
      "execution_count": null,
      "outputs": [
        {
          "output_type": "execute_result",
          "data": {
            "text/plain": [
              "20.0"
            ]
          },
          "metadata": {},
          "execution_count": 3
        }
      ]
    },
    {
      "cell_type": "code",
      "source": [
        "\n",
        "mini_batchs = 5\n",
        "start = 0\n",
        "end   = 100\n",
        "list_results = []\n",
        "\n",
        "i = start\n",
        "\n",
        "while i < end:\n",
        "  rango = range(i, int(i + end/mini_batchs))\n",
        "  list_results += [x**2 for x in rango]\n",
        "  i += int(end/mini_batchs)\n",
        "  print(f'group {i}/{end} processed')\n"
      ],
      "metadata": {
        "id": "VFiZ6L0Kgnqd",
        "outputId": "145471db-235e-413f-e9b9-6823c49dec45",
        "colab": {
          "base_uri": "https://localhost:8080/"
        }
      },
      "execution_count": null,
      "outputs": [
        {
          "output_type": "stream",
          "name": "stdout",
          "text": [
            "group 20/100 processed\n",
            "group 40/100 processed\n",
            "group 60/100 processed\n",
            "group 80/100 processed\n",
            "group 100/100 processed\n"
          ]
        }
      ]
    },
    {
      "cell_type": "code",
      "source": [
        "list_results"
      ],
      "metadata": {
        "id": "wV25pepiihzC"
      },
      "execution_count": null,
      "outputs": []
    },
    {
      "cell_type": "markdown",
      "source": [
        "**Ejercicio**\n",
        "\n",
        "Un docente tiene la nota de n estudiantes en dos cursos diferentes (Programación y estadística). Desarrolle un algoritmo que calcule de forma iterativa el promedio de notas para cada estudiante.\n"
      ],
      "metadata": {
        "id": "Jpbuozfhk_xH"
      }
    },
    {
      "cell_type": "code",
      "source": [
        "names = ['Anthony', 'Bryan', 'Carlos', 'Christian', 'Eddy']\n",
        "\n",
        "for name in names:\n",
        "  print(f'{name} esta en la clase!')"
      ],
      "metadata": {
        "id": "UPWrHEaDlQi7",
        "outputId": "31a284ef-2125-470e-f7e5-7a625bafb271",
        "colab": {
          "base_uri": "https://localhost:8080/"
        }
      },
      "execution_count": null,
      "outputs": [
        {
          "output_type": "stream",
          "name": "stdout",
          "text": [
            "Anthony esta en la clase!\n",
            "Bryan esta en la clase!\n",
            "Carlos esta en la clase!\n",
            "Christian esta en la clase!\n",
            "Eddy esta en la clase!\n"
          ]
        }
      ]
    },
    {
      "cell_type": "code",
      "source": [
        "# prompt: obtener el orden de un elemento en una lista\n",
        "\n",
        "print(names.index('Eddy'))\n"
      ],
      "metadata": {
        "id": "fWjNL4NembHx"
      },
      "execution_count": null,
      "outputs": []
    },
    {
      "cell_type": "code",
      "source": [
        "names.index('Bryan')"
      ],
      "metadata": {
        "id": "JfZ5RJBFmO96",
        "outputId": "d81579c3-65db-4b6b-d2cf-d690e4931be0",
        "colab": {
          "base_uri": "https://localhost:8080/"
        }
      },
      "execution_count": null,
      "outputs": [
        {
          "output_type": "execute_result",
          "data": {
            "text/plain": [
              "1"
            ]
          },
          "metadata": {},
          "execution_count": 21
        }
      ]
    },
    {
      "cell_type": "code",
      "source": [
        "program_grades = [18, 19, 17, 18, 20]\n",
        "program_grades[1]"
      ],
      "metadata": {
        "id": "_yoQ6AO0mmqV",
        "outputId": "9248e2ee-03ee-4c3b-fccd-13460cd23154",
        "colab": {
          "base_uri": "https://localhost:8080/"
        }
      },
      "execution_count": null,
      "outputs": [
        {
          "output_type": "execute_result",
          "data": {
            "text/plain": [
              "19"
            ]
          },
          "metadata": {},
          "execution_count": 25
        }
      ]
    },
    {
      "cell_type": "code",
      "source": [
        "names = ['Anthony', 'Bryan', 'Carlos', 'Christian', 'Eddy']\n",
        "program_grades = [18, 19, 17, 18, 20]\n",
        "\n",
        "for name in names:\n",
        "  print(f'{name} obtuvo {program_grades[names.index(name)]} en el curso de programación')\n"
      ],
      "metadata": {
        "id": "2idAPofTlvYa",
        "outputId": "1c178f1a-d630-4ce6-8293-1cf133568763",
        "colab": {
          "base_uri": "https://localhost:8080/"
        }
      },
      "execution_count": null,
      "outputs": [
        {
          "output_type": "stream",
          "name": "stdout",
          "text": [
            "Anthony obtuvo 18 en programación\n",
            "Bryan obtuvo 19 en programación\n",
            "Carlos obtuvo 17 en programación\n",
            "Christian obtuvo 18 en programación\n",
            "Eddy obtuvo 20 en programación\n"
          ]
        }
      ]
    },
    {
      "cell_type": "markdown",
      "source": [
        "---\n",
        "\n",
        "# Gracias por completar este laboratorio!\n",
        "\n",
        "---\n"
      ],
      "metadata": {
        "id": "Z8TPfkHyH_D5"
      }
    }
  ]
}